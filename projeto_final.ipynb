{
  "nbformat": 4,
  "nbformat_minor": 0,
  "metadata": {
    "colab": {
      "name": "projeto_final.ipynb",
      "provenance": [],
      "collapsed_sections": [],
      "authorship_tag": "ABX9TyPpHrkCHl8vggA+wdO+Dl2i",
      "include_colab_link": true
    },
    "kernelspec": {
      "name": "python3",
      "display_name": "Python 3"
    }
  },
  "cells": [
    {
      "cell_type": "markdown",
      "metadata": {
        "id": "view-in-github",
        "colab_type": "text"
      },
      "source": [
        "<a href=\"https://colab.research.google.com/github/rmlessa/projeto_final/blob/main/projeto_final.ipynb\" target=\"_parent\"><img src=\"https://colab.research.google.com/assets/colab-badge.svg\" alt=\"Open In Colab\"/></a>"
      ]
    },
    {
      "cell_type": "markdown",
      "metadata": {
        "id": "DtyMQq6DwkKx"
      },
      "source": [
        "Perguntas de Negócio\r\n",
        "\r\n",
        "1. A renda média do bairro que recebe o abastecimento está diretamente ligada a qualidade da água fornecida?\r\n",
        "\r\n",
        "2. A densidade populacional por bairro está relacionada com a qualidade da água fornecida?\r\n",
        "\r\n",
        "3. Quais bairros de Manaus necessitam de tratamento de água adicional?\r\n",
        "\r\n",
        "\r\n",
        "**Missão de hoje: **\r\n",
        "\r\n",
        "1. Limpar os dados de 2018 a 2020 e juntar os datasets separados por ano\r\n",
        "\r\n",
        "2. Criar uma coluna no dataset para representar coliformes fecais como ausente e presente sendo que ausente será igual a 0 e presente será igual a 1\r\n",
        "\r\n",
        "3. Verificar a extratificação da porcentagem de coliformes presentes por bairro"
      ]
    },
    {
      "cell_type": "code",
      "metadata": {
        "colab": {
          "base_uri": "https://localhost:8080/"
        },
        "id": "t9l6MSFciJWi",
        "outputId": "e9f58493-a5b4-4be7-967c-cab9f4479ba9"
      },
      "source": [
        "#instala o pyspark\r\n",
        "!pip install pyspark"
      ],
      "execution_count": 1,
      "outputs": [
        {
          "output_type": "stream",
          "text": [
            "Collecting pyspark\n",
            "\u001b[?25l  Downloading https://files.pythonhosted.org/packages/45/b0/9d6860891ab14a39d4bddf80ba26ce51c2f9dc4805e5c6978ac0472c120a/pyspark-3.1.1.tar.gz (212.3MB)\n",
            "\u001b[K     |████████████████████████████████| 212.3MB 65kB/s \n",
            "\u001b[?25hCollecting py4j==0.10.9\n",
            "\u001b[?25l  Downloading https://files.pythonhosted.org/packages/9e/b6/6a4fb90cd235dc8e265a6a2067f2a2c99f0d91787f06aca4bcf7c23f3f80/py4j-0.10.9-py2.py3-none-any.whl (198kB)\n",
            "\u001b[K     |████████████████████████████████| 204kB 19.3MB/s \n",
            "\u001b[?25hBuilding wheels for collected packages: pyspark\n",
            "  Building wheel for pyspark (setup.py) ... \u001b[?25l\u001b[?25hdone\n",
            "  Created wheel for pyspark: filename=pyspark-3.1.1-py2.py3-none-any.whl size=212767604 sha256=91249baab6fe65d9a31358d88f6919a2df32405fc0235302ddcf53db97b84e71\n",
            "  Stored in directory: /root/.cache/pip/wheels/0b/90/c0/01de724414ef122bd05f056541fb6a0ecf47c7ca655f8b3c0f\n",
            "Successfully built pyspark\n",
            "Installing collected packages: py4j, pyspark\n",
            "Successfully installed py4j-0.10.9 pyspark-3.1.1\n"
          ],
          "name": "stdout"
        }
      ]
    },
    {
      "cell_type": "code",
      "metadata": {
        "id": "Et8Emdggjwzd"
      },
      "source": [
        "#importa bibliotecas que serão utilizadas\r\n",
        "import pandas as pd\r\n",
        "import sqlite3\r\n",
        "from pyspark.sql import SparkSession\r\n",
        "from pyspark.sql import SQLContext\r\n",
        "from pyspark.sql.functions import monotonically_increasing_id #incrementa indice dos dataframes pyspark\r\n",
        "from pyspark.sql.functions import lit\r\n",
        "from pyspark.sql.functions import trim\r\n",
        "from functools import reduce\r\n",
        "from pyspark.sql import DataFrame"
      ],
      "execution_count": 2,
      "outputs": []
    },
    {
      "cell_type": "code",
      "metadata": {
        "colab": {
          "base_uri": "https://localhost:8080/"
        },
        "id": "pIF1JTXj0mSu",
        "outputId": "9bbd875b-71f9-4a7c-f443-38afab6fae46"
      },
      "source": [
        "#monta o google drive\r\n",
        "from google.colab import drive\r\n",
        "drive.mount('/content/drive')"
      ],
      "execution_count": 3,
      "outputs": [
        {
          "output_type": "stream",
          "text": [
            "Mounted at /content/drive\n"
          ],
          "name": "stdout"
        }
      ]
    },
    {
      "cell_type": "code",
      "metadata": {
        "id": "XPuw3-OSjl4y"
      },
      "source": [
        "#cria sessão spark no colab para realizar a extração dos dados dos arquivos countries.csv e flags.csv\r\n",
        "if __name__ == '__main__':\r\n",
        "    scSpark = SparkSession \\\r\n",
        "        .builder \\\r\n",
        "        .appName(\"etl\") \\\r\n",
        "        .getOrCreate()"
      ],
      "execution_count": 4,
      "outputs": []
    },
    {
      "cell_type": "code",
      "metadata": {
        "id": "FwVsjqfwj2Ee"
      },
      "source": [
        "#salva o caminho onde o arquivo csv para o ano de 2018 está\r\n",
        "analise_agua_2018 = '/content/drive/MyDrive/01 - AQUISIÇÃO DE DADOS/Projeto_Final/2amostras_de_vigilancia_parametros_basicos_anual_2018.csv'"
      ],
      "execution_count": 5,
      "outputs": []
    },
    {
      "cell_type": "code",
      "metadata": {
        "id": "g9f1JKOTz9Xa"
      },
      "source": [
        "#salva o caminho onde o arquivo csv para o ano de 2019 está\r\n",
        "analise_agua_2019 = '/content/drive/MyDrive/01 - AQUISIÇÃO DE DADOS/Projeto_Final/2amostras_de_vigilancia_parametros_basicos_anual_2019.csv'"
      ],
      "execution_count": 6,
      "outputs": []
    },
    {
      "cell_type": "code",
      "metadata": {
        "id": "A-0AO6cjz9HB"
      },
      "source": [
        "#salva o caminho onde o arquivo csv para o ano de 2020 está\r\n",
        "analise_agua_2020 = '/content/drive/MyDrive/01 - AQUISIÇÃO DE DADOS/Projeto_Final/2amostras_de_vigilancia_parametros_basicos_anual_2020.csv'"
      ],
      "execution_count": 7,
      "outputs": []
    },
    {
      "cell_type": "code",
      "metadata": {
        "id": "bVOrhpFmz84k"
      },
      "source": [
        "#salva o caminho onde o arquivo csv dos dados socioeconômicos estão\r\n",
        "dados_soc_eco =  '/content/drive/MyDrive/01 - AQUISIÇÃO DE DADOS/Projeto_Final/DADOS_SOCIOECONOMICOS_BAIRROS_MANAUS.CSV'"
      ],
      "execution_count": 8,
      "outputs": []
    },
    {
      "cell_type": "code",
      "metadata": {
        "id": "5C6zMKBH0y04",
        "colab": {
          "base_uri": "https://localhost:8080/"
        },
        "outputId": "627943c1-7e41-42b3-8603-bb3fee88ff3c"
      },
      "source": [
        "#dataframe pyspark para receber dados dos arquivos .csv\r\n",
        "\r\n",
        "#dataset com dados de análises de águas feitas nos municípios brasileiros 2018\r\n",
        "session_2018 = scSpark.read.csv(analise_agua_2018, header=True, encoding=\"ISO-8859-1\" ,sep=\";\").cache() #armazena o resultado em cache para melhor desempenho\r\n",
        "print('Total de Registros em 2018.csv = {}'.format(session_2018.count()))\r\n",
        "session_2018.show()"
      ],
      "execution_count": 9,
      "outputs": [
        {
          "output_type": "stream",
          "text": [
            "Total de Registros em 2018.csv = 2677498\n",
            "+-----------------+--------+--------------------+--------------------+--------------------+---------------+--------------------+------------------------+--------------------------+------------------------+--------------------+-----------------+--------------------+--------------------+------------------------------+--------------------+--------------------+-----+---+--------------------+--------------------+---------------------+--------------------+--------------------+--------------------+-------+--------------------+--------------------+--------------------+--------------------+--------------------+--------------------+--------------------+--------------------+--------------------+--------------------+\n",
            "|REGIAO_GEOGRAFICA|SIGLA_UF|   REGIONAL_DE_SAUDE|      NOME_MUNICIPIO|         CODIGO_IBGE| NUMERO_AMOSTRA|       MOTIVO_COLETA|TIPO_FORMA_ABASTECIMENTO|CODIGO_FORMA_ABASTECIMENTO|NOME_FORMA_ABASTECIMENTO| Tipo da Instituição|Sigla Instituição| Nome da Instituição|    CNPJ_INSTITUICAO|Nome escritório regional/local|     CNPJ_ESCRITORIO|            NOME_ETA|  ANO|MES|         DATA_COLETA|          DATA_LAUDO|DATA_REGISTRO_SISAGUA|  PROCEDENCIA_COLETA|        PONTO_COLETA|     DESCRICAO_LOCAL|   ZONA|      CATEGORIA_AREA|                AREA|          TIPO_LOCAL|               LOCAL|            LATITUDE|           LONGITUDE|           PARAMETRO| 'Análise realizada'|           RESULTADO|       'Providência'|\n",
            "+-----------------+--------+--------------------+--------------------+--------------------+---------------+--------------------+------------------------+--------------------------+------------------------+--------------------+-----------------+--------------------+--------------------+------------------------------+--------------------+--------------------+-----+---+--------------------+--------------------+---------------------+--------------------+--------------------+--------------------+-------+--------------------+--------------------+--------------------+--------------------+--------------------+--------------------+--------------------+--------------------+--------------------+--------------------+\n",
            "|  SUL            |      RS|3ª CRS           ...|SAO JOSE DO NORTE...|431850           ...|183320000187   |Rotina              |              SAA       |            S431850000001 |    SÃO JOSÉ DO NORTE...|Empresa Estadual ...|       CORSAN    |COMPANHIA RIOGRAN...| 0000009280278400...|          SUPERINTENDENCIA ...| 0000009280278403...|                 ...| 2018| 12|2018/12/26 00:00:...|2018/12/28 00:00:...| 2019/01/09 09:25:...|SISTEMA DE DISTRI...|Cavalete/Hidrômet...|FERNANDO DUPRAT 5...|Urbana |Bairro           ...|CENTRO           ...|                 ...|                 ...|                null|                null|Fluoreto (mg/L)  ...|                 ...|0,7              ...|                 ...|\n",
            "|  SUDESTE        |      RJ|SERRANA          ...|TERESOPOLIS      ...|330580           ...|0331           |Rotina              |              SAA       |            S330580000001 |    SISTEMA RIO PRETO...|Empresa Estadual ...|       CEDAE     |COMPANHIA ESTADUA...| 0000003335239400...|          SERRANA          ...| 0000003335239400...|                 ...| 2018| 05|2018/05/30 00:00:...|2018/05/30 00:00:...| 2018/06/12 14:01:...|SISTEMA DE DISTRI...|Cavalete/Hidrômet...|ESTRADA JOSÉ GOME...|Urbana |Bairro           ...|POSSE            ...|                 ...|                 ...|                null|                null|pH               ...|                 ...|6,29             ...|                 ...|\n",
            "|  SUDESTE        |      SP|GVS IX - FRANCO D...|CAIEIRAS         ...|350900           ...|180902000027   |Rotina              |              SAA       |            S355030000001 |    SISTEMA CANTAREIR...|Empresa Estadual ...|       SABESP    |COMPANHIA DE SANE...| 0000004377651700...|          SAO PAULO SABESP ...| 0000004377651704...|                 ...| 2018| 03|2018/03/05 00:00:...|2018/03/27 00:00:...| 2018/03/28 08:50:...|SISTEMA DE DISTRI...|Cavalete/Hidrômet...|RUA BAURU N° 27- ...|Urbana |Bairro           ...|CENTRO CAIEIRAS  ...|Casa             ...|CENTRO           ...|                null|                null|pH               ...|                 ...|8,40             ...|                 ...|\n",
            "|  NORDESTE       |      BA|03 DIRES / ALAGOI...|PEDRAO           ...|292410           ...|180307000072   |Rotina              |              SAA       |            S292410000001 |    SLAA DE PEDRÃO   ...|Empresa Estadual ...|       EMBASA    |EMPRESA BAIANA DE...| 0000001350467500...|          UNA ALAGOINHAS   ...| 0000001350467500...|                 ...| 2018| 08|2018/08/27 00:00:...|2018/08/30 00:00:...| 2018/09/25 10:22:...|SISTEMA DE DISTRI...|Torneira antes da...|SITIO SAPUCAIA - ...|Rural  |Núcleo/Propriedad...|SITIO SAPUCAIA   ...|Casa             ...|EUVIRA BEZERRA   ...|                null|                null|Cor (uH)         ...|                 ...|0,0              ...|                 ...|\n",
            "|  SUL            |      SC|21ª REGIONAL DE S...|CRICIUMA         ...|420460           ...|182101000231   |Rotina              |              SAA       |            S420460000001 |    CRICIUMA         ...|Empresa Estadual ...|       CASAN     |COMPANHIA CATARIN...| 0000008250843300...|          SUPERINTENDENCIA ...| 0000008250843300...|                 ...| 2018| 07|2018/07/24 00:00:...|2018/07/27 00:00:...| 2018/08/08 13:43:...|SISTEMA DE DISTRI...|Cavalete/Hidrômet...|ROD ARCHIMEDES NA...|Urbana |Bairro           ...|ARCHIMEDES NASPOL...|                 ...|                 ...|                null|                null|Fluoreto (mg/L)  ...|                 ...|1,1              ...|                 ...|\n",
            "|  CENTRO-OESTE   |      GO|REGIONAL CENTRO S...|CEZARINA         ...|520545           ...|180191000051   |Rotina              |              SAA       |            S520545000001 |    SISTEMA DE ABASTE...|Empresa Estadual ...|       SANEAGO   |SANEAMENTO DE GOI...| 0000000161692900...|          GRS PALMEIRAS    ...| 0000000161692900...|                 ...| 2018| 06|2018/06/05 00:00:...|2018/06/11 00:00:...| 2018/06/18 08:53:...|SISTEMA DE DISTRI...|Torneira antes da...|AV PALMEIRAS     ...|Urbana |Bairro           ...|SETOR CENTRAL    ...|                 ...|                 ...|                null|                null|pH               ...|                 ...|6,66             ...|                 ...|\n",
            "|  SUDESTE        |      ES|SUPERINTENDÊNCIA ...|SANTA TERESA     ...|320460           ...|180316000030   |Rotina              |              SAA       |            S320460000002 |    CESAN COMPANHIA E...|Empresa Estadual ...|       CESAN     |COMPANHIA ESPIRIT...| 0000002815136300...|          QUALIDADE DA AGUA...| 0000002815136300...|                 ...| 2018| 02|2018/02/21 00:00:...|2018/03/05 00:00:...| 2018/03/08 08:59:...|SISTEMA DE DISTRI...|Torneira antes da...|CENTRO           ...|Urbana |Bairro           ...|CENTRO           ...|Estabelecimento d...|EMEI PESSANHA POV...|                null|                null|pH               ...|                 ...|6,00             ...|                 ...|\n",
            "|  NORDESTE       |      PE|V REGIONAL DE SAU...|CAPOEIRAS        ...|260380           ...|0135           |Rotina              |              SAA       |            S260380000001 |    ETA CAPOEIRAS    ...|Empresa Estadual ...|       COMPESA   |COMPANHIA PERNAMB...| 0000000976903500...|          GNR AGRESTE MERID...| 0000000976903500...|                 ...| 2018| 12|2018/12/11 00:00:...|2018/12/28 00:00:...| 2019/01/02 09:22:...|SISTEMA DE DISTRI...|Torneira antes da...|CRECHE           ...|Urbana |Bairro           ...|CENTRO           ...|                 ...|                 ...|                null|                null|pH               ...|                 ...|6,8              ...|                 ...|\n",
            "|  SUL            |      RS|5ª CRS           ...|CAMPESTRE DA SERR...|430367           ...|183507000007   |Rotina              |              SAA       |            S430367000001 |    CAMPESTRE DA SERR...|Empresa Estadual ...|       CORSAN    |COMPANHIA RIOGRAN...| 0000009280278400...|          SUPERINTENDENCIA ...| 0000009280278403...|                 ...| 2018| 02|2018/02/20 00:00:...|2018/02/23 00:00:...| 2018/03/02 13:22:...|INTRA-DOMICILIAR ...|Torneira após a r...|RUA NOSSA SENHORA...|Urbana |Bairro           ...|CENTRO           ...|                 ...|                 ...|                null|                null|Turbidez (uT)    ...|EM_LABORATORIO   ...|0,9              ...|                 ...|\n",
            "|  SUDESTE        |      SP|GVS XXVIII - CARA...|CARAGUATATUBA    ...|351050           ...|182804000130   |Rotina              |              SAA       |            S351050000001 |    SISTEMA DE ABASTE...|Empresa Estadual ...|       SABESP    |COMPANHIA DE SANE...| 0000004377651700...|          CARAGUATATUBA SAB...| 0000001014223100...|                 ...| 2018| 08|2018/08/21 00:00:...|2018/08/24 00:00:...| 2018/08/30 15:05:...|SISTEMA DE DISTRI...|Cavalete/Hidrômet...|RUA MANOEL PEREIR...|Urbana |Bairro           ...|TABATINGA        ...|                 ...|                 ...|                null|                null|Cloro residual li...|EM_CAMPO         ...|1,45             ...|                 ...|\n",
            "|  SUDESTE        |      RJ|METROPOLITANA I  ...|MAGE             ...|330250           ...|20181003000632 |Rotina              |              SAA       |            S330250000002 |    UT SANTO ALEIXO  ...|Empresa Estadual ...|       CEDAE     |COMPANHIA ESTADUA...| 0000003335239400...|          GERENCIA LESTE   ...| 0000003335239400...|                 ...| 2018| 04|2018/04/10 00:00:...|2018/04/10 00:00:...| 2019/01/29 19:59:...|SISTEMA DE DISTRI...|Cavalete/Hidrômet...|RUA: ROBERTO BUSS...|Urbana |Bairro           ...|CENTRO           ...|                 ...|                 ...|                null|                null|Cloro residual li...|EM_CAMPO         ...|0,5              ...|                 ...|\n",
            "|  SUL            |      PR|08 RS - FRANCISCO...|NOVA ESPERANCA DO...|411695           ...|180816000012   |Rotina              |              SAA       |            S411695000001 |    NOVA ESPERANCA DO...|Empresa Estadual ...|       SANEPAR   |COMPANHIA DE SANE...| 0000007648401300...|          UR FRANCISCO BELT...| 0000007648401300...|                 ...| 2018| 02|2018/02/07 00:00:...|2018/02/09 00:00:...| 2018/03/02 09:38:...|SISTEMA DE DISTRI...|Torneira antes da...|AVENIDA IGUACU   ...|Urbana |Bairro           ...|SEDE MUNICIPAL   ...|                 ...|                 ...|                null|                null|Cloro residual li...|EM_CAMPO         ...|1,0              ...|                 ...|\n",
            "|  NORDESTE       |      CE|04 REGIONAL DE SA...|ARATUBA          ...|230140           ...|180411000092   |Rotina              |              SAA       |            S230140000001 |    CAGECE ARATUBA   ...|Empresa Estadual ...|       CAGECE    |COMPANHIA DE AGUA...| 0000000704010800...|          UNIDADE DE NEGOCI...| 0000000704010800...|                 ...| 2018| 06|2018/06/06 00:00:...|2018/06/07 00:00:...| 2018/06/19 08:26:...|SISTEMA DE DISTRI...|Cavalete/Hidrômet...|                 ...|Urbana |Bairro           ...|CENTRO           ...|Outro            ...|SECRETARIA RECURS...|                null|                null|Turbidez (uT)    ...|EM_LABORATORIO   ...|0,1              ...|                 ...|\n",
            "|  NORDESTE       |      BA|20 DIRES / VITORI...|CANDIDO SALES    ...|290670           ...|182020000056   |Rotina              |              SAA       |            S290670000001 |    SIAA DE CÂNDIDO S...|Empresa Estadual ...|       EMBASA    |EMPRESA BAIANA DE...| 0000001350467500...|          USV VITORIA DA CO...| 0000001350467500...|                 ...| 2018| 04|2018/04/24 00:00:...|2018/06/18 00:00:...| 2018/06/21 09:39:...|SISTEMA DE DISTRI...|Cavalete/Hidrômet...|RUA FLORES DANTAS...|Urbana |Bairro           ...|NOVA CONQUISTA   ...|                 ...|                 ...|                null|                null|Cloro residual li...|EM_CAMPO         ...|0,5              ...|                 ...|\n",
            "|  NORDESTE       |      PB|10 GERENCIA REGIO...|SANTA CRUZ       ...|251320           ...|181002000102   |Rotina              |              SAA       |            S251320000001 |    SAA DE SANTA CRUZ...|Empresa Estadual ...|       CAGEPA    |COMPANHIA DE AGUA...| 0000000912365400...|          CAGEPA COMPANHIA ...| 0000000216894300...|                 ...| 2018| 12|2018/12/18 00:00:...|2019/01/02 00:00:...| 2019/01/10 10:53:...|SISTEMA DE DISTRI...|Torneira antes da...|RESIDENCIA DE ADA...|Urbana |Bairro           ...|SAO FRANCISCO    ...|Grupo de casas   ...|BAIRRO SAO FRANCI...|                null|                null|Cloro residual li...|EM_CAMPO         ...|0,0              ...|                 ...|\n",
            "|  SUL            |      SC|27ª REGIONAL DE S...|URUBICI          ...|421890           ...|182803000095   |Rotina              |              SAA       |            S421890000001 |    URUBICI          ...|Empresa Estadual ...|       CASAN     |COMPANHIA CATARIN...| 0000008250843300...|          SUPERINTENDENCIA ...| 0000008250843300...|                 ...| 2018| 10|2018/10/30 00:00:...|2018/11/01 00:00:...| 2018/12/10 14:27:...|SISTEMA DE DISTRI...|Cavalete/Hidrômet...|RUA BOANERGES PER...|Urbana |Bairro           ...|CENTRO           ...|                 ...|                 ...|                null|                null|Turbidez (uT)    ...|EM_CAMPO         ...|20,57            ...|Será feita recole...|\n",
            "|  SUL            |      PR|05 RS - GUARAPUAV...|LARANJAL         ...|411325           ...|091LAR18       |Rotina              |              SAA       |            S411325000001 |    LARANJAL UT3631  ...|Empresa Estadual ...|       SANEPAR   |COMPANHIA DE SANE...| 0000007648401300...|          UR GUARAPUAVA    ...| 0000007648401300...|                 ...| 2018| 09|2018/09/24 00:00:...|2018/09/24 00:00:...| 2018/09/27 15:13:...|SISTEMA DE DISTRI...|Cavalete/Hidrômet...|                 ...|Urbana |Bairro           ...|SEDE MUNICIPAL   ...|                 ...|                 ...|                null|                null|Cloro residual li...|EM_CAMPO         ...|1,00             ...|                 ...|\n",
            "|  NORTE          |      RO|I GRS - JI PARANÁ...|JI-PARANA        ...|110012           ...|180151000215   |Rotina              |              SAA       |            S110012000006 |    SAA SAE003       ...|Empresa Estadual ...|       CAERD     |COMPANHIA DE AGUA...| 0000000591425400...|          ESCRITORIO DE REP...| 0000000591425400...|                 ...| 2018| 08|2018/08/01 00:00:...|2018/08/13 00:00:...| 2018/09/05 11:29:...|SISTEMA DE DISTRI...|Cavalete/Hidrômet...|RUA CRUZEIRO DO S...|Urbana |Bairro           ...| JORGE TEIXEIRA  ...|Casa             ...|RESIDENCIA BAIRRO...|-0000000000000001...|-0000000000000006...|Turbidez (uT)    ...|EM_LABORATORIO   ...|0,5              ...|                 ...|\n",
            "|  NORTE          |      PA|1° CRS           ...|BELEM            ...|150140           ...|180001000348   |Rotina              |              SAA       |            S150140000013 |    COSANPA IPASEP SA...|Empresa Estadual ...|       COSANPA   |COMPANHIA DE SANE...| 0000000494534100...|          COSANPA REGIONAL ...| 0000000494534100...|                 ...| 2018| 12|2018/12/10 00:00:...|2018/12/26 00:00:...| 2019/01/02 12:39:...|SISTEMA DE DISTRI...|Cavalete/Hidrômet...|RESIDÊNCIA DO SEN...|Urbana |Bairro           ...|COQUEIRO         ...|                 ...|                 ...|                null|                null|Turbidez (uT)    ...|EM_LABORATORIO   ...|1,99             ...|                 ...|\n",
            "|  SUL            |      SC|9ª REGIONAL DE SA...|CALMON           ...|420315           ...|181005000016   |Rotina              |              SAA       |            S420315000001 |    SAA CALMON       ...|Empresa Estadual ...|       CASAN     |COMPANHIA CATARIN...| 0000008250843300...|          SUPERINTENDENCIA ...| 0000008250843300...|                 ...| 2018| 03|2018/03/13 00:00:...|2018/03/16 00:00:...| 2018/04/02 16:29:...|SISTEMA DE DISTRI...|Cavalete/Hidrômet...|RUA MATILDE WORIN...|Urbana |Bairro           ...|CENTRO           ...|                 ...|                 ...|                null|                null|Turbidez (uT)    ...|EM_LABORATORIO   ...|0,62             ...|                 ...|\n",
            "+-----------------+--------+--------------------+--------------------+--------------------+---------------+--------------------+------------------------+--------------------------+------------------------+--------------------+-----------------+--------------------+--------------------+------------------------------+--------------------+--------------------+-----+---+--------------------+--------------------+---------------------+--------------------+--------------------+--------------------+-------+--------------------+--------------------+--------------------+--------------------+--------------------+--------------------+--------------------+--------------------+--------------------+--------------------+\n",
            "only showing top 20 rows\n",
            "\n"
          ],
          "name": "stdout"
        }
      ]
    },
    {
      "cell_type": "code",
      "metadata": {
        "colab": {
          "base_uri": "https://localhost:8080/"
        },
        "id": "mz5HKv1h072u",
        "outputId": "5f707d49-c316-47ef-cb3c-dec363b5d712"
      },
      "source": [
        "#dataframe pyspark para receber dados dos arquivos .csv\r\n",
        "\r\n",
        "#dataset com dados de análises de águas feitas nos municípios brasileiros 2019\r\n",
        "session_2019 = scSpark.read.csv(analise_agua_2019, header=True, encoding=\"ISO-8859-1\" ,sep=\";\").cache() #armazena o resultado em cache para melhor desempenho\r\n",
        "print('Total de Registros em 2019.csv = {}'.format(session_2019.count()))\r\n",
        "session_2019.show()"
      ],
      "execution_count": 10,
      "outputs": [
        {
          "output_type": "stream",
          "text": [
            "Total de Registros em 2019.csv = 2836968\n",
            "+-----------------+--------+--------------------+--------------------+--------------------+---------------+--------------------+------------------------+--------------------------+------------------------+--------------------+-----------------+--------------------+--------------------+------------------------------+--------------------+--------------------+-----+---+--------------------+--------------------+---------------------+--------------------+--------------------+--------------------+-------+--------------------+--------------------+--------------------+--------------------+--------------------+--------------------+--------------------+--------------------+--------------------+--------------------+\n",
            "|REGIAO_GEOGRAFICA|SIGLA_UF|   REGIONAL_DE_SAUDE|      NOME_MUNICIPIO|         CODIGO_IBGE| NUMERO_AMOSTRA|       MOTIVO_COLETA|TIPO_FORMA_ABASTECIMENTO|CODIGO_FORMA_ABASTECIMENTO|NOME_FORMA_ABASTECIMENTO| Tipo da Instituição|Sigla Instituição| Nome da Instituição|    CNPJ_INSTITUICAO|Nome escritório regional/local|     CNPJ_ESCRITORIO|            NOME_ETA|  ANO|MES|         DATA_COLETA|          DATA_LAUDO|DATA_REGISTRO_SISAGUA|  PROCEDENCIA_COLETA|        PONTO_COLETA|     DESCRICAO_LOCAL|   ZONA|      CATEGORIA_AREA|                AREA|          TIPO_LOCAL|               LOCAL|            LATITUDE|           LONGITUDE|           PARAMETRO| 'Análise realizada'|           RESULTADO|       'Providência'|\n",
            "+-----------------+--------+--------------------+--------------------+--------------------+---------------+--------------------+------------------------+--------------------------+------------------------+--------------------+-----------------+--------------------+--------------------+------------------------------+--------------------+--------------------+-----+---+--------------------+--------------------+---------------------+--------------------+--------------------+--------------------+-------+--------------------+--------------------+--------------------+--------------------+--------------------+--------------------+--------------------+--------------------+--------------------+--------------------+\n",
            "|  NORDESTE       |      BA|14 DIRES / ITAPET...|ITAMBE           ...|291580           ...|191427000065   |Rotina              |              SAA       |            S291580000002 |    SAA DE ITAMBE    ...|Empresa Estadual ...|       EMBASA    |EMPRESA BAIANA DE...| 0000001350467500...|          USV VITORIA DA CO...| 0000001350467500...|                 ...| 2019| 07|2019/07/04 00:00:...|2019/07/09 00:00:...| 2019/07/10 07:46:...|SISTEMA DE DISTRI...|Cavalete/Hidrômet...|RUA JOSÉ TEIXEIRA...|Urbana |Área urbana isola...|CIDADE SEDE MUNIC...|Estabelecimento d...|CENTRO EDUCACIONA...|                null|                null|pH               ...|                 ...|6,03             ...|                 ...|\n",
            "|  NORDESTE       |      CE|07 REGIONAL DE SA...|ITAICABA         ...|230620           ...|190707000149   |Rotina              |              SAA       |            S230620000001 |    SISTEMA ITAICABA ...|Empresa Estadual ...|       CAGECE    |COMPANHIA DE AGUA...| 0000000704010800...|          UNIDADE DE NEGOCI...| 0000000704010800...|                 ...| 2019| 11|2019/11/11 00:00:...|2019/11/14 00:00:...| 2019/11/21 09:07:...|SISTEMA DE DISTRI...|Cavalete/Hidrômet...|TRAVESSA 31 DE MA...|Urbana |Bairro           ...|SAO FRANCISCO    ...|Grupo de casas   ...|BAIRRO SAO FRANCI...|-0000000000000000...|-0000000000000003...|Fluoreto (mg/L)  ...|                 ...|0,0              ...|                 ...|\n",
            "|  SUDESTE        |      MG|BELO HORIZONTE   ...|CONTAGEM         ...|311860           ...|130/2019       |Rotina              |              SAA       |            S310670000001 |    SISTEMA VARGEM DA...|Empresa Estadual ...|       COPASA    |COMPANHIA DE SANE...| 0000001728110600...|          DISTRITO DO MEDIO...| 0000001728110600...|                 ...| 2019| 02|2019/02/12 00:00:...|2019/02/12 00:00:...| 2019/02/14 14:59:...|SISTEMA DE DISTRI...|Cavalete/Hidrômet...|FÓRUM DE CONTAGEM...|Urbana |Bairro           ...|CENTRO           ...|                 ...|                 ...|                null|                null|pH               ...|                 ...|7,11             ...|                 ...|\n",
            "|  SUDESTE        |      SP|GVS XIV - BARRETO...|JABORANDI        ...|352420           ...|191403000016   |Rotina              |              SAA       |            S352420000004 |    JABORANDI        ...|Empresa Estadual ...|       SABESP    |COMPANHIA DE SANE...| 0000004377651700...|          JABORANDI SABESP ...| 0000004377651705...|                 ...| 2019| 04|2019/04/15 00:00:...|2019/04/18 00:00:...| 2019/07/12 16:25:...|SISTEMA DE DISTRI...|Torneira antes da...|RUA ULISSES DE AN...|Urbana |Bairro           ...|CENTRO           ...|                 ...|                 ...|                null|                null|Fluoreto (mg/L)  ...|                 ...|0,60             ...|                 ...|\n",
            "|  NORDESTE       |      CE|16 REGIONAL DE SA...|CHAVAL           ...|230390           ...|191610000059   |Rotina              |              SAA       |            S230205000001 |    SISTEMA ITAUNA   ...|Empresa Estadual ...|       CAGECE    |COMPANHIA DE AGUA...| 0000000704010800...|          UNIDADE DE NEGOCI...| 0000000704010800...|                 ...| 2019| 04|2019/04/16 00:00:...|2019/04/24 00:00:...| 2019/05/02 11:18:...|SISTEMA DE DISTRI...|Torneira antes da...|RUA MAJOR FIEL   ...|Urbana |Bairro           ...|CENTRO           ...|                 ...|                 ...|                null|                null|Fluoreto (mg/L)  ...|                 ...|0,0              ...|                 ...|\n",
            "|  NORTE          |      AM|UNICA            ...|BENJAMIN CONSTANT...|130060           ...|27             |Rotina              |              SAA       |            S130060000002 |    SISTEMA DE ABASTE...|Empresa Estadual ...|       COSAMA    |COMPANHIA DE SANE...| 0000000440619500...|          COSAMA           ...| 0000000440619500...|                 ...| 2019| 02|2019/02/20 00:00:...|2019/02/21 00:00:...| 2019/03/27 09:01:...|SISTEMA DE DISTRI...|Cavalete/Hidrômet...|RUA 13 DE MAIO   ...|Urbana |Bairro           ...|COIMBRA          ...|Outro            ...|RESERVATORIO APOI...|                null|                null|Cor (uH)         ...|                 ...|10               ...|                 ...|\n",
            "|  NORDESTE       |      CE|13 REGIONAL DE SA...|SAO BENEDITO     ...|231230           ...|191311000137   |Rotina              |              SAA       |            S231230000002 |    SISAR JACARANDA  ...|Empresa Estadual ...|       SISAR     |SISTEMA INTEGRADO...| 0000000503385300...|          SISTEMA INTEGRADO...| 0000000480556600...|                 ...| 2019| 06|2019/06/11 00:00:...|2019/06/17 00:00:...| 2019/07/04 14:43:...|SISTEMA DE DISTRI...|Cavalete/Hidrômet...|JACARANDA        ...|Rural  |Povoado/Lugarejo ...|JACARANDA        ...|                 ...|                 ...|                null|                null|Cloro residual li...|EM_CAMPO         ...|3,73             ...|                 ...|\n",
            "|  SUDESTE        |      SP|GVS XX -  PIRACIC...|SALTINHO         ...|354515           ...|192012000016   |Rotina              |              SAA       |            S354515000002 |    SALTINHO         ...|Empresa Estadual ...|       SABESP    |COMPANHIA DE SANE...| 0000004377651700...|          ITATIBA SABESP   ...| 0000004377651709...|                 ...| 2019| 02|2019/02/05 00:00:...|2019/02/11 00:00:...| 2019/07/26 09:16:...|SISTEMA DE DISTRI...|Cavalete/Hidrômet...|RUA JOSE TORREZAN...|Urbana |Bairro           ...|JARDIM TORREZAN  ...|                 ...|                 ...|                null|                null|Turbidez (uT)    ...|EM_LABORATORIO   ...|0,59             ...|                 ...|\n",
            "|  NORDESTE       |      BA|16 DIRES / JACOBI...|MORRO DO CHAPEU  ...|292170           ...|191602000127   |Rotina              |              SAA       |            S292170000004 |    MORRO DO CHAPEU  ...|Empresa Estadual ...|       EMBASA    |EMPRESA BAIANA DE...| 0000001350467500...|          UNI IRECE        ...| 0000001350467500...|                 ...| 2019| 10|2019/10/07 00:00:...|2019/10/08 00:00:...| 2019/10/24 11:18:...|SISTEMA DE DISTRI...|Cavalete/Hidrômet...|RUA JONAS VALOIS ...|Urbana |Bairro           ...|CAIXA D'ÁGUA     ...|                 ...|                 ...|                null|                null|Cloro residual li...|EM_CAMPO         ...|2,0              ...|                 ...|\n",
            "|  SUL            |      SC|20ª REGIONAL DE S...|LAGUNA           ...|420940           ...|191901000145   |Rotina              |              SAA       |            S420940000006 |    SAA LAGUNA       ...|Empresa Estadual ...|       CASAN     |COMPANHIA CATARIN...| 0000008250843300...|          SUPERINTENDENCIA ...| 0000008250843300...|                 ...| 2019| 09|2019/09/03 00:00:...|2019/09/10 00:00:...| 2019/09/20 15:35:...|SISTEMA DE DISTRI...|Cavalete/Hidrômet...|RUA DR ANGELO NOV...|Urbana |Bairro           ...|CENTRO           ...|                 ...|                 ...|                null|                null|Turbidez (uT)    ...|EM_LABORATORIO   ...|0,80             ...|                 ...|\n",
            "|  NORDESTE       |      PB|02 GERENCIA REGIO...|PILOES           ...|251160           ...|190205000035   |Rotina              |              SAA       |            S251160000001 |    SAA DE PILÕES    ...|Empresa Estadual ...|       CAGEPA    |COMPANHIA DE AGUA...| 0000000912365400...|          CAGEPA COMPANHIA ...| 0000000216894300...|                 ...| 2019| 04|2019/04/16 00:00:...|2019/05/01 00:00:...| 2019/05/23 14:35:...|SISTEMA DE DISTRI...|Cavalete/Hidrômet...|PRACA JO?O PESSOA...|Urbana |Bairro           ...|PRACA JOAO PESSOA...|                 ...|                 ...|                null|                null|Turbidez (uT)    ...|EM_LABORATORIO   ...|1,54             ...|                 ...|\n",
            "|  SUL            |      SC|7ª REGIONAÇ DE SA...|JABORA           ...|420860           ...|190713000081   |Rotina              |              SAA       |            S420860000002 |    SAA JABORA       ...|Empresa Estadual ...|       CASAN     |COMPANHIA CATARIN...| 0000008250843300...|          SUPERINTENDENCIA ...| 0000008250843300...|                 ...| 2019| 10|2019/10/22 00:00:...|2019/10/22 00:00:...| 2019/11/13 14:04:...|SISTEMA DE DISTRI...|Torneira antes da...|R ANGELO POYER Nº...|Urbana |Bairro           ...|CENTRO           ...|                 ...|                 ...|                null|                null|Cloro residual li...|EM_CAMPO         ...|00               ...|APARELHO NÂO LEU ...|\n",
            "|  SUL            |      PR|04 RS - IRATI    ...|GUAMIRANGA       ...|410895           ...|038GUM19       |Rotina              |              SAA       |            S410895000003 |    GUAMIRANGA UT3871...|Empresa Estadual ...|       SANEPAR   |COMPANHIA DE SANE...| 0000007648401300...|          UR PONTA GROSSA  ...| 0000007648401300...|                 ...| 2019| 04|2019/04/10 00:00:...|2019/04/14 00:00:...| 2019/05/29 09:15:...|SISTEMA DE DISTRI...|Cavalete/Hidrômet...|BAIRRO SAO JOAO  ...|Urbana |Bairro           ...|CENTRO DA CIDADE ...|                 ...|                 ...|                null|                null|Cloro residual li...|EM_CAMPO         ...|0,3              ...|                 ...|\n",
            "|  NORDESTE       |      PE|I REGIONAL DE SAU...|OLINDA           ...|260960           ...|190132000175   |Rotina              |              SAA       |            S260680000001 |     BOTAFOGO        ...|Empresa Estadual ...|       COMPESA   |COMPANHIA PERNAMB...| 0000000976903500...|          GMN NORTE        ...| 0000000976903500...|                 ...| 2019| 04|2019/04/15 00:00:...|2019/04/17 00:00:...| 2019/04/23 15:33:...|SISTEMA DE DISTRI...|Torneira antes da...|RUA 06 N? 155, V ...|Urbana |Bairro           ...|RIO DOCE         ...|                 ...|                 ...|                null|                null|Cloro residual li...|EM_LABORATORIO   ...|5,11             ...|tomar as medidas ...|\n",
            "|  NORDESTE       |      CE|04 REGIONAL DE SA...|ARATUBA          ...|230140           ...|190411000076   |Rotina              |              SAA       |            S230140000001 |    CAGECE ARATUBA   ...|Empresa Estadual ...|       CAGECE    |COMPANHIA DE AGUA...| 0000000704010800...|          UNIDADE DE NEGOCI...| 0000000704010800...|                 ...| 2019| 05|2019/05/22 00:00:...|2019/05/29 00:00:...| 2019/06/03 09:28:...|SISTEMA DE DISTRI...|Cavalete/Hidrômet...|TRAVESSA JOSE AQU...|Urbana |Bairro           ...|CENTRO           ...|Estabelecimento d...|POSTO SEDE       ...|-0000000000000000...|-0000000000000003...|Turbidez (uT)    ...|EM_LABORATORIO   ...|0,1              ...|                 ...|\n",
            "|  NORDESTE       |      SE|ITABAIANA        ...|CARIRA           ...|280140           ...|190506000191   |Rotina              |              SAA       |            S280560000001 |    ETA DELMIRO GOUVE...|Empresa Estadual ...|       DESO      |COMPANHIA DE SANE...| 0000001301817100...|          PORTO DA FOLHA   ...| 0000001301817100...|                 ...| 2019| 12|2019/12/16 00:00:...|2019/12/17 00:00:...| 2020/01/02 11:41:...|INTRA-DOMICILIAR ...|Torneira após a r...|RUA AURINO DE CAR...|Urbana |Bairro           ...|CENTRO           ...|Estabelecimento d...|ESCOLA MARIA ESME...|                null|                null|pH               ...|                 ...|7,3              ...|                 ...|\n",
            "|  SUDESTE        |      SP|GVS XV - BAURU   ...|LINS             ...|352710           ...|191507000173   |Rotina              |              SAA       |            S352710000004 |    UTA JARDIM PRIMAV...|Empresa Estadual ...|       SABESP    |COMPANHIA DE SANE...| 0000004377651700...|          LINS SABESP      ...| 0000004377651701...|                 ...| 2019| 12|2019/12/10 00:00:...|2019/12/12 00:00:...| 2019/12/20 09:58:...|SISTEMA DE DISTRI...|Cavalete/Hidrômet...|RUA LAURO CLETO 3...|Urbana |Bairro           ...|JARDIM UNIAO     ...|                 ...|                 ...|                null|                null|pH               ...|                 ...|7,3              ...|                 ...|\n",
            "|  SUL            |      PR|05 RS - GUARAPUAV...|FOZ DO JORDAO    ...|410845           ...|068FJO19       |Rotina              |              SAA       |            S410845000001 |    FOZ DO JORDAO UT3...|Empresa Estadual ...|       SANEPAR   |COMPANHIA DE SANE...| 0000007648401300...|          UR GUARAPUAVA    ...| 0000007648401300...|                 ...| 2019| 11|2019/11/27 00:00:...|2019/11/27 00:00:...| 2019/12/09 09:55:...|SISTEMA DE DISTRI...|Cavalete/Hidrômet...|RUA CRISTIANO WOL...|Urbana |Bairro           ...|SEDE MUNICIPAL   ...|                 ...|                 ...|                null|                null|Cloro residual li...|EM_CAMPO         ...|1,5              ...|                 ...|\n",
            "|  NORTE          |      AM|UNICA            ...|TABATINGA        ...|130406           ...|320            |Rotina              |              SAA       |            S130406000010 |    SISTEMA DE ABASTE...|Empresa Estadual ...|       COSAMA    |COMPANHIA DE SANE...| 0000000440619500...|          COSAMA           ...| 0000000440619500...|                 ...| 2019| 08|2019/08/26 00:00:...|2019/08/28 00:00:...| 2019/09/04 17:32:...|SISTEMA DE DISTRI...|Cavalete/Hidrômet...|RUA T 18 S/Nº    ...|Urbana |Bairro           ...|PORTOBRAS        ...|Casa             ...|RESIDENCIA SR JOS...|-0000000000000000...|-0000000000000006...|Cloro residual li...|EM_LABORATORIO   ...|0,1              ...|VERIFICAR A QUANT...|\n",
            "|  SUL            |      PR|14 RS - PARANAVAI...|PARANAVAI        ...|411840           ...|191420000077   |Rotina              |              SAA       |            S411840000006 |    JARDIM OASIS UT19...|Empresa Estadual ...|       SANEPAR   |COMPANHIA DE SANE...| 0000007648401300...|          UR PARANAVAI     ...| 0000007648401300...|                 ...| 2019| 04|2019/04/23 00:00:...|2019/04/26 00:00:...| 2019/05/02 09:18:...|SISTEMA DE DISTRI...|Cavalete/Hidrômet...|AV JOSE FELIPE TE...|Urbana |Bairro           ...|JARDIM OASIS     ...|                 ...|                 ...|                null|                null|Turbidez (uT)    ...|EM_CAMPO         ...|0,59             ...|                 ...|\n",
            "+-----------------+--------+--------------------+--------------------+--------------------+---------------+--------------------+------------------------+--------------------------+------------------------+--------------------+-----------------+--------------------+--------------------+------------------------------+--------------------+--------------------+-----+---+--------------------+--------------------+---------------------+--------------------+--------------------+--------------------+-------+--------------------+--------------------+--------------------+--------------------+--------------------+--------------------+--------------------+--------------------+--------------------+--------------------+\n",
            "only showing top 20 rows\n",
            "\n"
          ],
          "name": "stdout"
        }
      ]
    },
    {
      "cell_type": "code",
      "metadata": {
        "id": "Wk_UJkbok25W",
        "colab": {
          "base_uri": "https://localhost:8080/"
        },
        "outputId": "6f4a1b02-3fad-4c32-b39c-81cdfb7240fe"
      },
      "source": [
        "#dataframe pyspark para receber dados dos arquivos .csv\r\n",
        "\r\n",
        "#dataset com dados de análises de águas feitas nos municípios brasileiros 2020\r\n",
        "session_2020 = scSpark.read.csv(analise_agua_2020, header=True, encoding=\"ISO-8859-1\" ,sep=\";\").cache() #armazena o resultado em cache para melhor desempenho\r\n",
        "print('Total de Registros em 2020.csv = {}'.format(session_2020.count()))\r\n",
        "session_2020.show()"
      ],
      "execution_count": 11,
      "outputs": [
        {
          "output_type": "stream",
          "text": [
            "Total de Registros em 2020.csv = 2125798\n",
            "+-----------------+--------+--------------------+--------------------+--------------------+---------------+--------------------+------------------------+--------------------------+------------------------+--------------------+-----------------+--------------------+--------------------+------------------------------+--------------------+--------------------+-----+---+--------------------+--------------------+---------------------+--------------------+--------------------+--------------------+-------+--------------------+--------------------+--------------------+--------------------+--------------------+--------------------+--------------------+--------------------+--------------------+--------------------+\n",
            "|REGIAO_GEOGRAFICA|SIGLA_UF|   REGIONAL_DE_SAUDE|      NOME_MUNICIPIO|         CODIGO_IBGE| NUMERO_AMOSTRA|       MOTIVO_COLETA|TIPO_FORMA_ABASTECIMENTO|CODIGO_FORMA_ABASTECIMENTO|NOME_FORMA_ABASTECIMENTO| Tipo da Instituição|Sigla Instituição| Nome da Instituição|    CNPJ_INSTITUICAO|Nome escritório regional/local|     CNPJ_ESCRITORIO|            NOME_ETA|  ANO|MES|         DATA_COLETA|          DATA_LAUDO|DATA_REGISTRO_SISAGUA|  PROCEDENCIA_COLETA|        PONTO_COLETA|     DESCRICAO_LOCAL|   ZONA|      CATEGORIA_AREA|                AREA|          TIPO_LOCAL|               LOCAL|            LATITUDE|           LONGITUDE|           PARAMETRO| 'Análise realizada'|           RESULTADO|       'Providência'|\n",
            "+-----------------+--------+--------------------+--------------------+--------------------+---------------+--------------------+------------------------+--------------------------+------------------------+--------------------+-----------------+--------------------+--------------------+------------------------------+--------------------+--------------------+-----+---+--------------------+--------------------+---------------------+--------------------+--------------------+--------------------+-------+--------------------+--------------------+--------------------+--------------------+--------------------+--------------------+--------------------+--------------------+--------------------+--------------------+\n",
            "|  NORDESTE       |      PE|X REGIONAL DE SAU...|SANTA TEREZINHA  ...|261280           ...|201023000017   |Rotina              |              SAA       |            S261280000001 |    ETA SANTA TEREZIN...|Empresa Estadual ...|       COMPESA   |COMPANHIA PERNAMB...| 0000000976903500...|          GNR ALTO DO PAJEU...| 0000000976903500...|                 ...| 2020| 02|2020/02/12 00:00:...|2020/02/19 00:00:...| 2020/02/27 09:00:...|SISTEMA DE DISTRI...|Reservatório de d...|RUA SALOMÃO FERRE...|Urbana |Bairro           ...|CENTRO           ...|Estabelecimento d...|ECOLA ESTADUAL SA...|                null|                null|pH               ...|                 ...|7,2              ...|                 ...|\n",
            "|  NORDESTE       |      BA|29 DIRES / AMARGO...|UBAIRA           ...|293210           ...|200452000094   |Rotina              |              SAA       |            S293210000011 |    SAA DE UBAIRA    ...|Empresa Estadual ...|       EMBASA    |EMPRESA BAIANA DE...| 0000001350467500...|          USJ UNIDADE REGIO...| 0000001350467500...|                 ...| 2020| 11|2020/11/03 00:00:...|2020/11/06 00:00:...| 2020/11/10 11:27:...|SISTEMA DE DISTRI...|Cavalete/Hidrômet...|                 ...|Urbana |Bairro           ...|CENTRO           ...|                 ...|                 ...|                null|                null|pH               ...|                 ...|7,39             ...|                 ...|\n",
            "|  SUDESTE        |      SP|GVS XVI - BOTUCAT...|PORANGABA        ...|354050           ...|201611000023   |Rotina              |              SAA       |            S354050000001 |    SABESP CENTRAL   ...|Empresa Estadual ...|       SABESP    |COMPANHIA DE SANE...| 0000004377651700...|          PORANGA SABESP   ...| 0000004377651704...|                 ...| 2020| 03|2020/03/10 00:00:...|2020/03/16 00:00:...| 2020/05/13 15:25:...|SISTEMA DE DISTRI...|Cavalete/Hidrômet...|RUA 4 DE JUNHO 31...|Urbana |Bairro           ...|CENTRO           ...|                 ...|                 ...|                null|                null|pH               ...|                 ...|7,2              ...|                 ...|\n",
            "|  NORDESTE       |      CE|18 REGIONAL DE SA...|ACOPIARA         ...|230030           ...|201816000058   |Rotina              |              SAA       |            S230030000001 |    CAGECE ACOPIARA  ...|Empresa Estadual ...|       CAGECE    |COMPANHIA DE AGUA...| 0000000704010800...|          UNIDADE DE NEGOCI...| 0000000704010800...|                 ...| 2020| 02|2020/02/18 00:00:...|2020/02/21 00:00:...| 2020/02/27 12:33:...|SISTEMA DE DISTRI...|Torneira antes da...|RUA JOSE PAULINO1...|Urbana |Bairro           ...|CENTRO           ...|                 ...|                 ...|                null|                null|pH               ...|                 ...|8,2              ...|                 ...|\n",
            "|  SUDESTE        |      ES|SUPERINTENDÊNCIA ...|CONCEICAO DA BARR...|320160           ...|200105000041   |Rotina              |              SAA       |            S320160000003 |    CONCEICAO DA BARR...|Empresa Estadual ...|       CESAN     |COMPANHIA ESPIRIT...| 0000002815136300...|          QUALIDADE DA AGUA...| 0000002815136300...|                 ...| 2020| 04|2020/04/15 00:00:...|2020/04/22 00:00:...| 2020/07/16 14:08:...|INTRA-DOMICILIAR ...|Bebedouro        ...|CENTRO           ...|Urbana |Bairro           ...|CONCEICAO DA BARR...|                 ...|                 ...|                null|                null|pH               ...|                 ...|5,8              ...|                 ...|\n",
            "|  CENTRO-OESTE   |      GO|REGIONAL SÃO PATR...|IPIRANGA DE GOIAS...|521015           ...|0037 FQ 2020   |Rotina              |              SAA       |            S521015000002 |    IPIRANGA DE GOIAS...|Empresa Estadual ...|       SANEAGO   |SANEAMENTO DE GOI...| 0000000161692900...|          GRS CERES        ...| 0000000161692900...|                 ...| 2020| 07|2020/07/06 00:00:...|2020/07/06 00:00:...| 2020/08/12 14:59:...|SISTEMA DE DISTRI...|Torneira antes da...|AV. BERNARDO SAYA...|Urbana |Bairro           ...|SETOR CENTRAL    ...|Casa             ...|RESIDENCIA SETOR ...|-0000000000000001...|-0000000000000004...|pH               ...|                 ...|6,65             ...|                 ...|\n",
            "|  NORDESTE       |      SE|ITABAIANA        ...|CARIRA           ...|280140           ...|200506000104   |Rotina              |              SAA       |            S280560000001 |    ETA DELMIRO GOUVE...|Empresa Estadual ...|       DESO      |COMPANHIA DE SANE...| 0000001301817100...|          PORTO DA FOLHA   ...| 0000001301817100...|                 ...| 2020| 06|2020/06/03 00:00:...|2020/06/05 00:00:...| 2020/08/19 10:06:...|INTRA-DOMICILIAR ...|Torneira após a r...|JUAREZ DE LIMA OL...|Urbana |Bairro           ...|CENTRO           ...|                 ...|                 ...|                null|                null|Cor (uH)         ...|                 ...|5                ...|                 ...|\n",
            "|  NORDESTE       |      BA|09 DIRES / TEIXEI...|VEREDA           ...|293325           ...|200919000088   |Rotina              |              SAA       |            S293325000002 |    SLA VEREDAS      ...|Empresa Estadual ...|       EMBASA    |EMPRESA BAIANA DE...| 0000001350467500...|          USU ITAMARAJU    ...| 0000001350467500...|                 ...| 2020| 10|2020/10/22 00:00:...|2020/11/14 00:00:...| 2020/11/30 11:38:...|SISTEMA DE DISTRI...|Cavalete/Hidrômet...|BIBLIOTECA MUNICI...|Urbana |Bairro           ...|CENTRO           ...|                 ...|                 ...|                null|                null|Cor (uH)         ...|                 ...|0,7              ...|                 ...|\n",
            "|  SUDESTE        |      SP|GVS XI - ARAÇATUB...|NOVA LUZITANIA   ...|353330           ...|201112000014   |Rotina              |              SAA       |            S353330000001 |    SISTEMA DE ABASTE...|Empresa Estadual ...|       SABESP    |COMPANHIA DE SANE...| 0000004377651700...|          NOVA LUZITANIA   ...| 0000004377651702...|                 ...| 2020| 03|2020/03/17 00:00:...|2020/03/26 00:00:...| 2020/05/12 13:23:...|SISTEMA DE DISTRI...|Cavalete/Hidrômet...|RUA PEDRO PEREIRA...|Urbana |Bairro           ...|CENTRO           ...|                 ...|                 ...|                null|                null|Turbidez (uT)    ...|EM_LABORATORIO   ...|0,10             ...|                 ...|\n",
            "|  SUL            |      RS|4ª CRS           ...|SANTIAGO         ...|431740           ...|203421000184   |Rotina              |              SAA       |            S431740000001 |    SANTIAGO         ...|Empresa Estadual ...|       CORSAN    |COMPANHIA RIOGRAN...| 0000009280278400...|          SUPERINTENDENCIA ...| 0000009280278400...|                 ...| 2020| 09|2020/09/16 00:00:...|2020/10/02 00:00:...| 2020/10/07 06:32:...|SISTEMA DE DISTRI...|Torneira antes da...|ESF RIACHUELO    ...|Urbana |Bairro           ...|RIACHUELO        ...|Estabelecimento d...|ESF RIACHUELO    ...|                null|                null|Turbidez (uT)    ...|EM_LABORATORIO   ...|0,7              ...|                 ...|\n",
            "|  NORDESTE       |      BA|23 DIRES / BOQUIR...|IBIPITANGA       ...|291250           ...|201917000072   |Rotina              |              SAA       |            S291250000001 |    SAA IBIPITANGA   ...|Empresa Estadual ...|       EMBASA    |EMPRESA BAIANA DE...| 0000001350467500...|          USC CAETITE      ...| 0000001350467500...|                 ...| 2020| 08|2020/08/12 00:00:...|2020/08/12 00:00:...| 2020/08/28 10:01:...|SISTEMA DE DISTRI...|Cavalete/Hidrômet...|RUA DO ARROZ     ...|Urbana |Bairro           ...|CENTRO           ...|Casa             ...|CASA DE ARQUIMEDE...|                null|                null|Turbidez (uT)    ...|EM_LABORATORIO   ...|0,38             ...|                 ...|\n",
            "|  CENTRO-OESTE   |      MS|MACRORREGIÃO DE D...|RIO BRILHANTE    ...|500720           ...|TCA 32/A/2020  |Rotina              |              SAA       |            S500720000001 |    SAA DE RIO BRILHA...|Empresa Estadual ...|       SANESUL   |EMPRESA DE SANEAM...| 0000000398293100...|          GRANDE DOURADOS  ...| 0000000398293100...|                 ...| 2020| 11|2020/11/05 00:00:...|2020/11/10 00:00:...| 2020/11/13 11:30:...|INTRA-DOMICILIAR ...|Torneira após a r...|ESF JAIME MEDEIRO...|Urbana |Bairro           ...|NOVA ESPERANCA   ...|                 ...|                 ...|                null|                null|Cloro residual li...|EM_CAMPO         ...|0,5              ...|                 ...|\n",
            "|  SUL            |      PR|18 RS - CORNELIO ...|URAI             ...|412840           ...|201823000021   |Rotina              |              SAA       |            S412840000001 |    URAI UT2851      ...|Empresa Estadual ...|       SANEPAR   |COMPANHIA DE SANE...| 0000007648401300...|          UR CORNELIO PROCO...| 0000007648401300...|                 ...| 2020| 06|2020/06/30 00:00:...|2020/07/10 00:00:...| 2020/08/20 09:58:...|INTRA-DOMICILIAR ...|Torneira após a r...|RUA MONTEVIDEO   ...|Urbana |Bairro           ...|SEDE MUNICIPAL   ...|                 ...|                 ...|                null|                null|Turbidez (uT)    ...|EM_CAMPO         ...|0,10             ...|                 ...|\n",
            "|  NORDESTE       |      CE|04 REGIONAL DE SA...|ARATUBA          ...|230140           ...|200411000067   |Rotina              |              SAA       |            S230140000001 |    CAGECE ARATUBA   ...|Empresa Estadual ...|       CAGECE    |COMPANHIA DE AGUA...| 0000000704010800...|          UNIDADE DE NEGOCI...| 0000000704010800...|                 ...| 2020| 04|2020/04/28 00:00:...|2020/05/07 00:00:...| 2020/05/22 08:08:...|SISTEMA DE DISTRI...|Cavalete/Hidrômet...|RUA TARGINO GOES ...|Urbana |Bairro           ...|CENTRO           ...|Cemitério        ...|CEMITERIO        ...|-0000000000000000...|-0000000000000003...|Turbidez (uT)    ...|EM_LABORATORIO   ...|0,1              ...|                 ...|\n",
            "|  NORDESTE       |      CE|04 REGIONAL DE SA...|ITAPIUNA         ...|230650           ...|200412000142   |Rotina              |              SAA       |            S230650000001 |    CAGACE ITAPIUNA  ...|Empresa Estadual ...|       CAGECE    |COMPANHIA DE AGUA...| 0000000704010800...|          UNIDADE DE NEGOCI...| 0000000704010800...|                 ...| 2020| 08|2020/08/24 00:00:...|2020/08/28 00:00:...| 2020/09/10 12:32:...|SISTEMA DE DISTRI...|Cavalete/Hidrômet...|AVENIDA S?O CRIST...|Urbana |Bairro           ...|CENTRO           ...|                 ...|                 ...|                null|                null|Turbidez (uT)    ...|EM_LABORATORIO   ...|0,1              ...|                 ...|\n",
            "|  NORDESTE       |      SE|NOSSA SENHORA DO ...|GENERAL MAYNARD  ...|280250           ...|200207000022   |Rotina              |              SAA       |            S280250000001 |    ETA GENERAL MAYNA...|Empresa Estadual ...|       DESO      |COMPANHIA DE SANE...| 0000001301817100...|          GENERAL MAYNARD  ...| 0000001301817100...|                 ...| 2020| 03|2020/03/05 00:00:...|2020/03/06 00:00:...| 2020/04/16 11:49:...|SISTEMA DE DISTRI...|Torneira antes da...|JO?O PEREIRA     ...|Urbana |Bairro           ...|CENTRO           ...|                 ...|                 ...|                null|                null|Turbidez (uT)    ...|EM_LABORATORIO   ...|0,5              ...|                 ...|\n",
            "|  SUDESTE        |      SP|GVS XXXIII - TAUB...|TAUBATE          ...|355410           ...|203320000283   |Rotina              |              SAA       |            S355410000001 |    ETA II           ...|Empresa Estadual ...|       SABESP    |COMPANHIA DE SANE...| 0000004377651700...|          SABESP TAUBATE   ...| 0000004377651707...|                 ...| 2020| 09|2020/09/28 00:00:...|2020/09/30 00:00:...| 2020/10/15 16:23:...|SISTEMA DE DISTRI...|Cavalete/Hidrômet...|RUA CAMILO GOMES ...|Urbana |Bairro           ...|SAO GONCALO      ...|                 ...|                 ...|                null|                null|Turbidez (uT)    ...|EM_LABORATORIO   ...|0                ...|                 ...|\n",
            "|  SUL            |      PR|15 RS - MARINGA  ...|NOVA ESPERANCA   ...|411690           ...|124NEP20       |Rotina              |              SAA       |            S411690000001 |    NOVA ESPERANCA UT...|Empresa Estadual ...|       SANEPAR   |COMPANHIA DE SANE...| 0000007648401300...|          UR MARINGA       ...| 0000007648401300...|                 ...| 2020| 07|2020/07/15 00:00:...|2020/07/15 00:00:...| 2020/09/14 14:49:...|SISTEMA DE DISTRI...|Cavalete/Hidrômet...|AV. FELIPE CAMARÃ...|Urbana |Bairro           ...|SEDE MUNICIPAL   ...|                 ...|                 ...|                null|                null|Turbidez (uT)    ...|EM_CAMPO         ...|1,004            ...|                 ...|\n",
            "|  NORDESTE       |      PB|06 GERENCIA REGIO...|PATOS            ...|251080           ...|200604000027   |Rotina              |              SAA       |            S251080000001 |    SAA DE PATOS     ...|Empresa Estadual ...|       CAGEPA    |COMPANHIA DE AGUA...| 0000000912365400...|          CAGEPA COMPANHIA ...| 0000000216894300...|                 ...| 2020| 02|2020/02/18 00:00:...|2020/02/26 00:00:...| 2020/03/10 08:26:...|INTRA-DOMICILIAR ...|Torneira após a r...|RUA MIGUEL MOTA  ...|Urbana |Bairro           ...|ALTO DA TUBIBA   ...|                 ...|                 ...|                null|                null|Turbidez (uT)    ...|EM_LABORATORIO   ...|0,00             ...|                 ...|\n",
            "|  SUDESTE        |      ES|SUPERINTENDÊNCIA ...|MUNIZ FREIRE     ...|320370           ...|200421000006   |Rotina              |              SAA       |            S320370000002 |    CESAN MUNIZ FREIR...|Empresa Estadual ...|       CESAN     |COMPANHIA ESPIRIT...| 0000002815136300...|          QUALIDADE DA AGUA...| 0000002815136300...|MUNIZ FREIRE     ...| 2020| 02|2020/02/10 00:00:...|2020/02/13 00:00:...| 2020/03/09 11:35:...|ESTAÇÃO DE TRATAM...|Saída de tratamen...|RUA JOSE CABRIANO...|Urbana |Bairro           ...|CENTRO           ...|                 ...|                 ...|                null|                null|pH               ...|                 ...|6,85             ...|                 ...|\n",
            "+-----------------+--------+--------------------+--------------------+--------------------+---------------+--------------------+------------------------+--------------------------+------------------------+--------------------+-----------------+--------------------+--------------------+------------------------------+--------------------+--------------------+-----+---+--------------------+--------------------+---------------------+--------------------+--------------------+--------------------+-------+--------------------+--------------------+--------------------+--------------------+--------------------+--------------------+--------------------+--------------------+--------------------+--------------------+\n",
            "only showing top 20 rows\n",
            "\n"
          ],
          "name": "stdout"
        }
      ]
    },
    {
      "cell_type": "code",
      "metadata": {
        "id": "eOCE4taM1XWE",
        "colab": {
          "base_uri": "https://localhost:8080/"
        },
        "outputId": "e4aa9f49-f5ba-4fe2-c9e6-1e60c069f28d"
      },
      "source": [
        "#dataframe pyspark para receber dados dos arquivos .csv\r\n",
        "\r\n",
        "#dados socioeconômicos dos bairros de Manaus\r\n",
        "dados_bairros_manaus = scSpark.read.csv(dados_soc_eco, header=True, encoding=\"ISO-8859-1\" ,sep=\";\").cache() #armazena o resultado em cache para melhor desempenho\r\n",
        "print('Total de Registros.csv = {}'.format(dados_bairros_manaus.count()))\r\n",
        "dados_bairros_manaus.show()"
      ],
      "execution_count": 12,
      "outputs": [
        {
          "output_type": "stream",
          "text": [
            "Total de Registros.csv = 426\n",
            "+------------+--------------------+-------------------+-----------------------+-----------------+-------------+---------------------+\n",
            "|    ZONA_ADM|              BAIRRO|POPULACAO_IBGE_2010|POPULACAO_ESTIMADA_2020|RENDA_MENSAL_2010|QTD_ELEITORES|PERIMETRO_PMM_2010_HA|\n",
            "+------------+--------------------+-------------------+-----------------------+-----------------+-------------+---------------------+\n",
            "|CENTRO-OESTE|            ALVORADA|             64.621|                 79.595|            1.171|       49.752|               553,18|\n",
            "|CENTRO-OESTE|       BAIRRO DA PAZ|             15.193|                 18.714|            1.464|       11.426|               240,97|\n",
            "|CENTRO-OESTE|           DOM PEDRO|             17.070|                 21.025|            2.456|       21.217|               275,78|\n",
            "|CENTRO-OESTE|            PLANALTO|             16.283|                 20.056|            2.500|        7.373|               429,22|\n",
            "|CENTRO-OESTE|            REDENÇÃO|             35.166|                 43.315|            1.090|       29.735|               300,16|\n",
            "|  CENTRO-SUL|        ADRIANÓPOLIS|              8.847|                 10.897|            4.824|        8.709|               248,45|\n",
            "|  CENTRO-SUL|              ALEIXO|             20.655|                 25.441|            4.930|       16.725|               618,34|\n",
            "|  CENTRO-SUL|             CHAPADA|             11.182|                 13.773|            3.096|        4.663|               241,27|\n",
            "|  CENTRO-SUL|              FLORES|             48.098|                 59.243|            2.357|       29.284|             1.311,57|\n",
            "|  CENTRO-SUL|NOSSA SRA. DAS GR...|             15.116|                 18.619|            3.707|       11.368|               211,72|\n",
            "|  CENTRO-SUL|PARQUE 10 DE NOVE...|             41.256|                 50.816|            3.112|       33.024|               821,12|\n",
            "|  CENTRO-SUL|         SÃO GERALDO|              7.599|                  9.360|            1.898|        5.196|               104,50|\n",
            "|       LESTE|      ARMANDO MENDES|             28.288|                 34.843|              802|       19.342|               307,65|\n",
            "|       LESTE|COLÔNIA ANTÔNIO A...|             16.602|                 20.449|              714|       11.103|               923,82|\n",
            "|       LESTE|             COROADO|             51.354|                 63.254|            1.049|       39.940|             1.031,62|\n",
            "|       LESTE|DISTRITO INDUSTRI...|              3.889|                  4.802|            1.172|        2.493|             5.137,69|\n",
            "|       LESTE|  GILBERTO MESTRINHO|             55.347|                 68.172|              784|       23.447|               707,15|\n",
            "|       LESTE|      JORGE TEIXEIRA|            112.879|                139.036|              726|       70.755|             1.557,15|\n",
            "|       LESTE|           MAUAZINHO|             23.560|                 29.019|              734|       14.388|               748,83|\n",
            "|       LESTE|        PURAQUEQUARA|              5.856|                  7.213|              680|        4.328|             4.055,69|\n",
            "+------------+--------------------+-------------------+-----------------------+-----------------+-------------+---------------------+\n",
            "only showing top 20 rows\n",
            "\n"
          ],
          "name": "stdout"
        }
      ]
    },
    {
      "cell_type": "code",
      "metadata": {
        "colab": {
          "base_uri": "https://localhost:8080/"
        },
        "id": "ddlbh2RMC5-S",
        "outputId": "07a1c903-b980-4070-800c-8c63753e671a"
      },
      "source": [
        "#remover espaço em branco do valor das colunas\r\n",
        "\r\n",
        "print(\"Removendo espaços em branco à esquerda e a direita das colunas REGIÃO_GEOGRAFICA, NOME_MUNICIPIO e AREA\")\r\n",
        "\r\n",
        "#2018\r\n",
        "session_2018 = session_2018.withColumn(\"REGIAO_GEOGRAFICA\", trim(col=\"REGIAO_GEOGRAFICA\"))\r\n",
        "session_2018 = session_2018.withColumn(\"NOME_MUNICIPIO\", trim(col=\"NOME_MUNICIPIO\"))\r\n",
        "session_2018 = session_2018.withColumn(\"CATEGORIA_AREA\", trim(\"CATEGORIA_AREA\"))\r\n",
        "session_2018 = session_2018.withColumn(\"AREA\", trim(col=\"AREA\"))\r\n",
        "session_2018 = session_2018.withColumn(\"ZONA\", trim(col=\"ZONA\"))\r\n",
        "session_2018 = session_2018.withColumn(\"RESULTADO\", trim(col=\"RESULTADO\"))\r\n",
        "\r\n",
        "#2019\r\n",
        "session_2019 = session_2019.withColumn(\"REGIAO_GEOGRAFICA\", trim(col=\"REGIAO_GEOGRAFICA\"))\r\n",
        "session_2019 = session_2019.withColumn(\"NOME_MUNICIPIO\", trim(col=\"NOME_MUNICIPIO\"))\r\n",
        "session_2019 = session_2019.withColumn(\"CATEGORIA_AREA\", trim(\"CATEGORIA_AREA\"))\r\n",
        "session_2019 = session_2019.withColumn(\"AREA\", trim(col=\"AREA\"))\r\n",
        "session_2019 = session_2019.withColumn(\"ZONA\", trim(col=\"ZONA\"))\r\n",
        "session_2018 = session_2018.withColumn(\"RESULTADO\", trim(col=\"RESULTADO\"))\r\n",
        "\r\n",
        "#2020\r\n",
        "session_2020 = session_2020.withColumn(\"REGIAO_GEOGRAFICA\", trim(col=\"REGIAO_GEOGRAFICA\"))\r\n",
        "session_2020 = session_2020.withColumn(\"NOME_MUNICIPIO\", trim(col=\"NOME_MUNICIPIO\"))\r\n",
        "session_2020 = session_2020.withColumn(\"CATEGORIA_AREA\", trim(\"CATEGORIA_AREA\"))\r\n",
        "session_2020 = session_2020.withColumn(\"AREA\", trim(col=\"AREA\"))\r\n",
        "session_2020 = session_2020.withColumn(\"ZONA\", trim(col=\"ZONA\"))\r\n",
        "session_2018 = session_2018.withColumn(\"RESULTADO\", trim(col=\"RESULTADO\"))\r\n",
        "\r\n",
        "print(\"Espaços em branco removidos\")\r\n"
      ],
      "execution_count": 44,
      "outputs": [
        {
          "output_type": "stream",
          "text": [
            "Removendo espaços em branco à esquerda e a direita das colunas REGIÃO_GEOGRAFICA, NOME_MUNICIPIO e AREA\n",
            "Espaços em branco removidos\n"
          ],
          "name": "stdout"
        }
      ]
    },
    {
      "cell_type": "code",
      "metadata": {
        "id": "w-03L7ODmP2o"
      },
      "source": [
        "#transforma em tabelas para recuperar os dados da região norte, principalmente Manaus\r\n",
        "session_2018.createOrReplaceTempView(\"vw_dados_regiao_norte_2018\")"
      ],
      "execution_count": null,
      "outputs": []
    },
    {
      "cell_type": "code",
      "metadata": {
        "colab": {
          "base_uri": "https://localhost:8080/"
        },
        "id": "cHU1AeX9mTXx",
        "outputId": "59287c47-4a4e-4e67-db20-8d78f79c3be9"
      },
      "source": [
        "session_2018.show()"
      ],
      "execution_count": 52,
      "outputs": [
        {
          "output_type": "stream",
          "text": [
            "+-----------------+--------+--------------------+--------------------+--------------------+---------------+--------------------+------------------------+--------------------------+------------------------+--------------------+-----------------+--------------------+--------------------+------------------------------+--------------------+--------------------+-----+---+--------------------+--------------------+---------------------+--------------------+--------------------+--------------------+------+--------------------+--------------------+--------------------+--------------------+--------------------+--------------------+--------------------+--------------------+---------+--------------------+\n",
            "|REGIAO_GEOGRAFICA|SIGLA_UF|   REGIONAL_DE_SAUDE|      NOME_MUNICIPIO|         CODIGO_IBGE| NUMERO_AMOSTRA|       MOTIVO_COLETA|TIPO_FORMA_ABASTECIMENTO|CODIGO_FORMA_ABASTECIMENTO|NOME_FORMA_ABASTECIMENTO| Tipo da Instituição|Sigla Instituição| Nome da Instituição|    CNPJ_INSTITUICAO|Nome escritório regional/local|     CNPJ_ESCRITORIO|            NOME_ETA|  ANO|MES|         DATA_COLETA|          DATA_LAUDO|DATA_REGISTRO_SISAGUA|  PROCEDENCIA_COLETA|        PONTO_COLETA|     DESCRICAO_LOCAL|  ZONA|      CATEGORIA_AREA|                AREA|          TIPO_LOCAL|               LOCAL|            LATITUDE|           LONGITUDE|           PARAMETRO| 'Análise realizada'|RESULTADO|       'Providência'|\n",
            "+-----------------+--------+--------------------+--------------------+--------------------+---------------+--------------------+------------------------+--------------------------+------------------------+--------------------+-----------------+--------------------+--------------------+------------------------------+--------------------+--------------------+-----+---+--------------------+--------------------+---------------------+--------------------+--------------------+--------------------+------+--------------------+--------------------+--------------------+--------------------+--------------------+--------------------+--------------------+--------------------+---------+--------------------+\n",
            "|              SUL|      RS|3ª CRS           ...|   SAO JOSE DO NORTE|431850           ...|183320000187   |Rotina              |              SAA       |            S431850000001 |    SÃO JOSÉ DO NORTE...|Empresa Estadual ...|       CORSAN    |COMPANHIA RIOGRAN...| 0000009280278400...|          SUPERINTENDENCIA ...| 0000009280278403...|                 ...| 2018| 12|2018/12/26 00:00:...|2018/12/28 00:00:...| 2019/01/09 09:25:...|SISTEMA DE DISTRI...|Cavalete/Hidrômet...|FERNANDO DUPRAT 5...|Urbana|              Bairro|              CENTRO|                 ...|                 ...|                null|                null|Fluoreto (mg/L)  ...|                 ...|      0,7|                 ...|\n",
            "|          SUDESTE|      RJ|SERRANA          ...|         TERESOPOLIS|330580           ...|0331           |Rotina              |              SAA       |            S330580000001 |    SISTEMA RIO PRETO...|Empresa Estadual ...|       CEDAE     |COMPANHIA ESTADUA...| 0000003335239400...|          SERRANA          ...| 0000003335239400...|                 ...| 2018| 05|2018/05/30 00:00:...|2018/05/30 00:00:...| 2018/06/12 14:01:...|SISTEMA DE DISTRI...|Cavalete/Hidrômet...|ESTRADA JOSÉ GOME...|Urbana|              Bairro|               POSSE|                 ...|                 ...|                null|                null|pH               ...|                 ...|     6,29|                 ...|\n",
            "|          SUDESTE|      SP|GVS IX - FRANCO D...|            CAIEIRAS|350900           ...|180902000027   |Rotina              |              SAA       |            S355030000001 |    SISTEMA CANTAREIR...|Empresa Estadual ...|       SABESP    |COMPANHIA DE SANE...| 0000004377651700...|          SAO PAULO SABESP ...| 0000004377651704...|                 ...| 2018| 03|2018/03/05 00:00:...|2018/03/27 00:00:...| 2018/03/28 08:50:...|SISTEMA DE DISTRI...|Cavalete/Hidrômet...|RUA BAURU N° 27- ...|Urbana|              Bairro|     CENTRO CAIEIRAS|Casa             ...|CENTRO           ...|                null|                null|pH               ...|                 ...|     8,40|                 ...|\n",
            "|         NORDESTE|      BA|03 DIRES / ALAGOI...|              PEDRAO|292410           ...|180307000072   |Rotina              |              SAA       |            S292410000001 |    SLAA DE PEDRÃO   ...|Empresa Estadual ...|       EMBASA    |EMPRESA BAIANA DE...| 0000001350467500...|          UNA ALAGOINHAS   ...| 0000001350467500...|                 ...| 2018| 08|2018/08/27 00:00:...|2018/08/30 00:00:...| 2018/09/25 10:22:...|SISTEMA DE DISTRI...|Torneira antes da...|SITIO SAPUCAIA - ...| Rural|Núcleo/Propriedad...|      SITIO SAPUCAIA|Casa             ...|EUVIRA BEZERRA   ...|                null|                null|Cor (uH)         ...|                 ...|      0,0|                 ...|\n",
            "|              SUL|      SC|21ª REGIONAL DE S...|            CRICIUMA|420460           ...|182101000231   |Rotina              |              SAA       |            S420460000001 |    CRICIUMA         ...|Empresa Estadual ...|       CASAN     |COMPANHIA CATARIN...| 0000008250843300...|          SUPERINTENDENCIA ...| 0000008250843300...|                 ...| 2018| 07|2018/07/24 00:00:...|2018/07/27 00:00:...| 2018/08/08 13:43:...|SISTEMA DE DISTRI...|Cavalete/Hidrômet...|ROD ARCHIMEDES NA...|Urbana|              Bairro|ARCHIMEDES NASPOLINI|                 ...|                 ...|                null|                null|Fluoreto (mg/L)  ...|                 ...|      1,1|                 ...|\n",
            "|     CENTRO-OESTE|      GO|REGIONAL CENTRO S...|            CEZARINA|520545           ...|180191000051   |Rotina              |              SAA       |            S520545000001 |    SISTEMA DE ABASTE...|Empresa Estadual ...|       SANEAGO   |SANEAMENTO DE GOI...| 0000000161692900...|          GRS PALMEIRAS    ...| 0000000161692900...|                 ...| 2018| 06|2018/06/05 00:00:...|2018/06/11 00:00:...| 2018/06/18 08:53:...|SISTEMA DE DISTRI...|Torneira antes da...|AV PALMEIRAS     ...|Urbana|              Bairro|       SETOR CENTRAL|                 ...|                 ...|                null|                null|pH               ...|                 ...|     6,66|                 ...|\n",
            "|          SUDESTE|      ES|SUPERINTENDÊNCIA ...|        SANTA TERESA|320460           ...|180316000030   |Rotina              |              SAA       |            S320460000002 |    CESAN COMPANHIA E...|Empresa Estadual ...|       CESAN     |COMPANHIA ESPIRIT...| 0000002815136300...|          QUALIDADE DA AGUA...| 0000002815136300...|                 ...| 2018| 02|2018/02/21 00:00:...|2018/03/05 00:00:...| 2018/03/08 08:59:...|SISTEMA DE DISTRI...|Torneira antes da...|CENTRO           ...|Urbana|              Bairro|              CENTRO|Estabelecimento d...|EMEI PESSANHA POV...|                null|                null|pH               ...|                 ...|     6,00|                 ...|\n",
            "|         NORDESTE|      PE|V REGIONAL DE SAU...|           CAPOEIRAS|260380           ...|0135           |Rotina              |              SAA       |            S260380000001 |    ETA CAPOEIRAS    ...|Empresa Estadual ...|       COMPESA   |COMPANHIA PERNAMB...| 0000000976903500...|          GNR AGRESTE MERID...| 0000000976903500...|                 ...| 2018| 12|2018/12/11 00:00:...|2018/12/28 00:00:...| 2019/01/02 09:22:...|SISTEMA DE DISTRI...|Torneira antes da...|CRECHE           ...|Urbana|              Bairro|              CENTRO|                 ...|                 ...|                null|                null|pH               ...|                 ...|      6,8|                 ...|\n",
            "|              SUL|      RS|5ª CRS           ...|  CAMPESTRE DA SERRA|430367           ...|183507000007   |Rotina              |              SAA       |            S430367000001 |    CAMPESTRE DA SERR...|Empresa Estadual ...|       CORSAN    |COMPANHIA RIOGRAN...| 0000009280278400...|          SUPERINTENDENCIA ...| 0000009280278403...|                 ...| 2018| 02|2018/02/20 00:00:...|2018/02/23 00:00:...| 2018/03/02 13:22:...|INTRA-DOMICILIAR ...|Torneira após a r...|RUA NOSSA SENHORA...|Urbana|              Bairro|              CENTRO|                 ...|                 ...|                null|                null|Turbidez (uT)    ...|EM_LABORATORIO   ...|      0,9|                 ...|\n",
            "|          SUDESTE|      SP|GVS XXVIII - CARA...|       CARAGUATATUBA|351050           ...|182804000130   |Rotina              |              SAA       |            S351050000001 |    SISTEMA DE ABASTE...|Empresa Estadual ...|       SABESP    |COMPANHIA DE SANE...| 0000004377651700...|          CARAGUATATUBA SAB...| 0000001014223100...|                 ...| 2018| 08|2018/08/21 00:00:...|2018/08/24 00:00:...| 2018/08/30 15:05:...|SISTEMA DE DISTRI...|Cavalete/Hidrômet...|RUA MANOEL PEREIR...|Urbana|              Bairro|           TABATINGA|                 ...|                 ...|                null|                null|Cloro residual li...|EM_CAMPO         ...|     1,45|                 ...|\n",
            "|          SUDESTE|      RJ|METROPOLITANA I  ...|                MAGE|330250           ...|20181003000632 |Rotina              |              SAA       |            S330250000002 |    UT SANTO ALEIXO  ...|Empresa Estadual ...|       CEDAE     |COMPANHIA ESTADUA...| 0000003335239400...|          GERENCIA LESTE   ...| 0000003335239400...|                 ...| 2018| 04|2018/04/10 00:00:...|2018/04/10 00:00:...| 2019/01/29 19:59:...|SISTEMA DE DISTRI...|Cavalete/Hidrômet...|RUA: ROBERTO BUSS...|Urbana|              Bairro|              CENTRO|                 ...|                 ...|                null|                null|Cloro residual li...|EM_CAMPO         ...|      0,5|                 ...|\n",
            "|              SUL|      PR|08 RS - FRANCISCO...|NOVA ESPERANCA DO...|411695           ...|180816000012   |Rotina              |              SAA       |            S411695000001 |    NOVA ESPERANCA DO...|Empresa Estadual ...|       SANEPAR   |COMPANHIA DE SANE...| 0000007648401300...|          UR FRANCISCO BELT...| 0000007648401300...|                 ...| 2018| 02|2018/02/07 00:00:...|2018/02/09 00:00:...| 2018/03/02 09:38:...|SISTEMA DE DISTRI...|Torneira antes da...|AVENIDA IGUACU   ...|Urbana|              Bairro|      SEDE MUNICIPAL|                 ...|                 ...|                null|                null|Cloro residual li...|EM_CAMPO         ...|      1,0|                 ...|\n",
            "|         NORDESTE|      CE|04 REGIONAL DE SA...|             ARATUBA|230140           ...|180411000092   |Rotina              |              SAA       |            S230140000001 |    CAGECE ARATUBA   ...|Empresa Estadual ...|       CAGECE    |COMPANHIA DE AGUA...| 0000000704010800...|          UNIDADE DE NEGOCI...| 0000000704010800...|                 ...| 2018| 06|2018/06/06 00:00:...|2018/06/07 00:00:...| 2018/06/19 08:26:...|SISTEMA DE DISTRI...|Cavalete/Hidrômet...|                 ...|Urbana|              Bairro|              CENTRO|Outro            ...|SECRETARIA RECURS...|                null|                null|Turbidez (uT)    ...|EM_LABORATORIO   ...|      0,1|                 ...|\n",
            "|         NORDESTE|      BA|20 DIRES / VITORI...|       CANDIDO SALES|290670           ...|182020000056   |Rotina              |              SAA       |            S290670000001 |    SIAA DE CÂNDIDO S...|Empresa Estadual ...|       EMBASA    |EMPRESA BAIANA DE...| 0000001350467500...|          USV VITORIA DA CO...| 0000001350467500...|                 ...| 2018| 04|2018/04/24 00:00:...|2018/06/18 00:00:...| 2018/06/21 09:39:...|SISTEMA DE DISTRI...|Cavalete/Hidrômet...|RUA FLORES DANTAS...|Urbana|              Bairro|      NOVA CONQUISTA|                 ...|                 ...|                null|                null|Cloro residual li...|EM_CAMPO         ...|      0,5|                 ...|\n",
            "|         NORDESTE|      PB|10 GERENCIA REGIO...|          SANTA CRUZ|251320           ...|181002000102   |Rotina              |              SAA       |            S251320000001 |    SAA DE SANTA CRUZ...|Empresa Estadual ...|       CAGEPA    |COMPANHIA DE AGUA...| 0000000912365400...|          CAGEPA COMPANHIA ...| 0000000216894300...|                 ...| 2018| 12|2018/12/18 00:00:...|2019/01/02 00:00:...| 2019/01/10 10:53:...|SISTEMA DE DISTRI...|Torneira antes da...|RESIDENCIA DE ADA...|Urbana|              Bairro|       SAO FRANCISCO|Grupo de casas   ...|BAIRRO SAO FRANCI...|                null|                null|Cloro residual li...|EM_CAMPO         ...|      0,0|                 ...|\n",
            "|              SUL|      SC|27ª REGIONAL DE S...|             URUBICI|421890           ...|182803000095   |Rotina              |              SAA       |            S421890000001 |    URUBICI          ...|Empresa Estadual ...|       CASAN     |COMPANHIA CATARIN...| 0000008250843300...|          SUPERINTENDENCIA ...| 0000008250843300...|                 ...| 2018| 10|2018/10/30 00:00:...|2018/11/01 00:00:...| 2018/12/10 14:27:...|SISTEMA DE DISTRI...|Cavalete/Hidrômet...|RUA BOANERGES PER...|Urbana|              Bairro|              CENTRO|                 ...|                 ...|                null|                null|Turbidez (uT)    ...|EM_CAMPO         ...|    20,57|Será feita recole...|\n",
            "|              SUL|      PR|05 RS - GUARAPUAV...|            LARANJAL|411325           ...|091LAR18       |Rotina              |              SAA       |            S411325000001 |    LARANJAL UT3631  ...|Empresa Estadual ...|       SANEPAR   |COMPANHIA DE SANE...| 0000007648401300...|          UR GUARAPUAVA    ...| 0000007648401300...|                 ...| 2018| 09|2018/09/24 00:00:...|2018/09/24 00:00:...| 2018/09/27 15:13:...|SISTEMA DE DISTRI...|Cavalete/Hidrômet...|                 ...|Urbana|              Bairro|      SEDE MUNICIPAL|                 ...|                 ...|                null|                null|Cloro residual li...|EM_CAMPO         ...|     1,00|                 ...|\n",
            "|            NORTE|      RO|I GRS - JI PARANÁ...|           JI-PARANA|110012           ...|180151000215   |Rotina              |              SAA       |            S110012000006 |    SAA SAE003       ...|Empresa Estadual ...|       CAERD     |COMPANHIA DE AGUA...| 0000000591425400...|          ESCRITORIO DE REP...| 0000000591425400...|                 ...| 2018| 08|2018/08/01 00:00:...|2018/08/13 00:00:...| 2018/09/05 11:29:...|SISTEMA DE DISTRI...|Cavalete/Hidrômet...|RUA CRUZEIRO DO S...|Urbana|              Bairro|      JORGE TEIXEIRA|Casa             ...|RESIDENCIA BAIRRO...|-0000000000000001...|-0000000000000006...|Turbidez (uT)    ...|EM_LABORATORIO   ...|      0,5|                 ...|\n",
            "|            NORTE|      PA|1° CRS           ...|               BELEM|150140           ...|180001000348   |Rotina              |              SAA       |            S150140000013 |    COSANPA IPASEP SA...|Empresa Estadual ...|       COSANPA   |COMPANHIA DE SANE...| 0000000494534100...|          COSANPA REGIONAL ...| 0000000494534100...|                 ...| 2018| 12|2018/12/10 00:00:...|2018/12/26 00:00:...| 2019/01/02 12:39:...|SISTEMA DE DISTRI...|Cavalete/Hidrômet...|RESIDÊNCIA DO SEN...|Urbana|              Bairro|            COQUEIRO|                 ...|                 ...|                null|                null|Turbidez (uT)    ...|EM_LABORATORIO   ...|     1,99|                 ...|\n",
            "|              SUL|      SC|9ª REGIONAL DE SA...|              CALMON|420315           ...|181005000016   |Rotina              |              SAA       |            S420315000001 |    SAA CALMON       ...|Empresa Estadual ...|       CASAN     |COMPANHIA CATARIN...| 0000008250843300...|          SUPERINTENDENCIA ...| 0000008250843300...|                 ...| 2018| 03|2018/03/13 00:00:...|2018/03/16 00:00:...| 2018/04/02 16:29:...|SISTEMA DE DISTRI...|Cavalete/Hidrômet...|RUA MATILDE WORIN...|Urbana|              Bairro|              CENTRO|                 ...|                 ...|                null|                null|Turbidez (uT)    ...|EM_LABORATORIO   ...|     0,62|                 ...|\n",
            "+-----------------+--------+--------------------+--------------------+--------------------+---------------+--------------------+------------------------+--------------------------+------------------------+--------------------+-----------------+--------------------+--------------------+------------------------------+--------------------+--------------------+-----+---+--------------------+--------------------+---------------------+--------------------+--------------------+--------------------+------+--------------------+--------------------+--------------------+--------------------+--------------------+--------------------+--------------------+--------------------+---------+--------------------+\n",
            "only showing top 20 rows\n",
            "\n"
          ],
          "name": "stdout"
        }
      ]
    },
    {
      "cell_type": "code",
      "metadata": {
        "colab": {
          "base_uri": "https://localhost:8080/"
        },
        "id": "JzU_Fw4l8VlM",
        "outputId": "568b4b65-2821-4609-d44d-fc620ab0a94f"
      },
      "source": [
        "#reduz os dados da tabela para trabalharmos apenas com Manaus\r\n",
        "dados_manaus_2018 =  scSpark.sql(\r\n",
        "    \"SELECT ANO, MES, TRIM(AREA) AS AREA, TRIM(NUMERO_AMOSTRA) AS NUMERO_AMOSTRA, TRIM(PARAMETRO) AS PARAMETRO, TRIM(RESULTADO) AS RESULTADO, (CASE WHEN RESULTADO = 'AUSENTE' THEN 0 ELSE 1 END) AS RESULTADO_FLAG  from vw_dados_regiao_norte_2018 where regiao_geografica = 'NORTE' and SIGLA_UF = 'AM' AND NOME_MUNICIPIO = 'MANAUS' and CATEGORIA_AREA = 'Bairro' and (PARAMETRO like '%Coli%' or PARAMETRO like '%coli%') AND ZONA = 'Urbana'  ORDER BY AREA, MES\")\r\n",
        "print('Total de dados_regiao_norte_2018 = {}'.format(dados_manaus_2018.count()))\r\n",
        "dados_manaus_2018.show()"
      ],
      "execution_count": 66,
      "outputs": [
        {
          "output_type": "stream",
          "text": [
            "Total de dados_regiao_norte_2018 = 4892\n",
            "+-----+---+------------+--------------+-----------------+---------+--------------+\n",
            "|  ANO|MES|        AREA|NUMERO_AMOSTRA|        PARAMETRO|RESULTADO|RESULTADO_FLAG|\n",
            "+-----+---+------------+--------------+-----------------+---------+--------------+\n",
            "| 2018| 04|ADRIANOPOLIS|  180001000474| Escherichia coli|  AUSENTE|             0|\n",
            "| 2018| 04|ADRIANOPOLIS|  180001000469| Escherichia coli|  AUSENTE|             0|\n",
            "| 2018| 04|ADRIANOPOLIS|  180001000726|Coliformes totais|  AUSENTE|             0|\n",
            "| 2018| 04|ADRIANOPOLIS|  180001000472|Coliformes totais|  AUSENTE|             0|\n",
            "| 2018| 04|ADRIANOPOLIS|  180001000731| Escherichia coli|  AUSENTE|             0|\n",
            "| 2018| 04|ADRIANOPOLIS|  180001000473|Coliformes totais| PRESENTE|             1|\n",
            "| 2018| 04|ADRIANOPOLIS|  180001000813| Escherichia coli|  AUSENTE|             0|\n",
            "| 2018| 04|ADRIANOPOLIS|  180001000471|Coliformes totais|  AUSENTE|             0|\n",
            "| 2018| 04|ADRIANOPOLIS|  180001000729| Escherichia coli|  AUSENTE|             0|\n",
            "| 2018| 04|ADRIANOPOLIS|  180001000470|Coliformes totais| PRESENTE|             1|\n",
            "| 2018| 04|ADRIANOPOLIS|  180001000471| Escherichia coli|  AUSENTE|             0|\n",
            "| 2018| 04|ADRIANOPOLIS|  180001000729|Coliformes totais|  AUSENTE|             0|\n",
            "| 2018| 04|ADRIANOPOLIS|  180001000726| Escherichia coli|  AUSENTE|             0|\n",
            "| 2018| 04|ADRIANOPOLIS|  180001000732|Coliformes totais|  AUSENTE|             0|\n",
            "| 2018| 04|ADRIANOPOLIS|  180001000730|Coliformes totais|  AUSENTE|             0|\n",
            "| 2018| 04|ADRIANOPOLIS|  180001000469|Coliformes totais|  AUSENTE|             0|\n",
            "| 2018| 04|ADRIANOPOLIS|  180001000727|Coliformes totais|  AUSENTE|             0|\n",
            "| 2018| 04|ADRIANOPOLIS|  180001000728| Escherichia coli|  AUSENTE|             0|\n",
            "| 2018| 04|ADRIANOPOLIS|  180001000813|Coliformes totais|  AUSENTE|             0|\n",
            "| 2018| 04|ADRIANOPOLIS|  180001000727| Escherichia coli|  AUSENTE|             0|\n",
            "+-----+---+------------+--------------+-----------------+---------+--------------+\n",
            "only showing top 20 rows\n",
            "\n"
          ],
          "name": "stdout"
        }
      ]
    },
    {
      "cell_type": "code",
      "metadata": {
        "colab": {
          "base_uri": "https://localhost:8080/"
        },
        "id": "tNSrpyir8eTJ",
        "outputId": "66f35b06-6d49-4a28-a848-96d6079049bc"
      },
      "source": [
        "#transforma em tabelas para recuperar os dados da região norte, principalmente Manaus\r\n",
        "session_2019.createOrReplaceTempView(\"vw_dados_regiao_norte_2019\")\r\n",
        "\r\n",
        "#reduz os dados da tabela para trabalharmos apenas com Manaus\r\n",
        "dados_manaus_2019 =  scSpark.sql(\r\n",
        "    \"SELECT ANO, MES, TRIM(AREA) AS AREA, TRIM(NUMERO_AMOSTRA) AS NUMERO_AMOSTRA, TRIM(PARAMETRO) AS PARAMETRO, TRIM(RESULTADO) AS RESULTADO, (CASE WHEN RESULTADO = 'AUSENTE' THEN 0 ELSE 1 END) AS RESULTADO_FLAG from vw_dados_regiao_norte_2019 where regiao_geografica = 'NORTE' and SIGLA_UF = 'AM' AND NOME_MUNICIPIO = 'MANAUS' and CATEGORIA_AREA = 'Bairro' and (PARAMETRO like '%Coli%' or PARAMETRO like '%coli%') AND ZONA = 'Urbana' ORDER BY AREA,MES\")\r\n",
        "print('Total de dados_regiao_norte_2019 = {}'.format(dados_manaus_2019.count()))\r\n",
        "dados_manaus_2019.show()\r\n"
      ],
      "execution_count": 67,
      "outputs": [
        {
          "output_type": "stream",
          "text": [
            "Total de dados_regiao_norte_2019 = 9784\n",
            "+-----+---+------------+--------------+-----------------+---------+--------------+\n",
            "|  ANO|MES|        AREA|NUMERO_AMOSTRA|        PARAMETRO|RESULTADO|RESULTADO_FLAG|\n",
            "+-----+---+------------+--------------+-----------------+---------+--------------+\n",
            "| 2019| 01|ADRIANOPOLIS|  190001000006| Escherichia coli|  AUSENTE|             1|\n",
            "| 2019| 01|ADRIANOPOLIS|  190001000004|Coliformes totais|  AUSENTE|             1|\n",
            "| 2019| 01|ADRIANOPOLIS|  190001000011|Coliformes totais|  AUSENTE|             1|\n",
            "| 2019| 01|ADRIANOPOLIS|  190001000009| Escherichia coli|  AUSENTE|             1|\n",
            "| 2019| 01|ADRIANOPOLIS|  190001000004| Escherichia coli|  AUSENTE|             1|\n",
            "| 2019| 01|ADRIANOPOLIS|  190001000001| Escherichia coli|  AUSENTE|             1|\n",
            "| 2019| 01|ADRIANOPOLIS|  190001000007| Escherichia coli|  AUSENTE|             1|\n",
            "| 2019| 01|ADRIANOPOLIS|  190001000001|Coliformes totais|  AUSENTE|             1|\n",
            "| 2019| 01|ADRIANOPOLIS|  190001000011| Escherichia coli|  AUSENTE|             1|\n",
            "| 2019| 01|ADRIANOPOLIS|  190001000005|Coliformes totais|  AUSENTE|             1|\n",
            "| 2019| 01|ADRIANOPOLIS|  190001000008|Coliformes totais|  AUSENTE|             1|\n",
            "| 2019| 01|ADRIANOPOLIS|  190001000002| Escherichia coli|  AUSENTE|             1|\n",
            "| 2019| 01|ADRIANOPOLIS|  190001000007|Coliformes totais|  AUSENTE|             1|\n",
            "| 2019| 01|ADRIANOPOLIS|  190001000003| Escherichia coli|  AUSENTE|             1|\n",
            "| 2019| 01|ADRIANOPOLIS|  190001000008| Escherichia coli|  AUSENTE|             1|\n",
            "| 2019| 01|ADRIANOPOLIS|  190001000005| Escherichia coli|  AUSENTE|             1|\n",
            "| 2019| 01|ADRIANOPOLIS|  190001000006|Coliformes totais|  AUSENTE|             1|\n",
            "| 2019| 01|ADRIANOPOLIS|  190001000020| Escherichia coli|  AUSENTE|             1|\n",
            "| 2019| 01|ADRIANOPOLIS|  190001000020|Coliformes totais|  AUSENTE|             1|\n",
            "| 2019| 01|ADRIANOPOLIS|  190001000002|Coliformes totais|  AUSENTE|             1|\n",
            "+-----+---+------------+--------------+-----------------+---------+--------------+\n",
            "only showing top 20 rows\n",
            "\n"
          ],
          "name": "stdout"
        }
      ]
    },
    {
      "cell_type": "code",
      "metadata": {
        "id": "YfpH87R24lYR",
        "colab": {
          "base_uri": "https://localhost:8080/"
        },
        "outputId": "84e3afe2-c7f6-4236-a70c-d03549e5d0b4"
      },
      "source": [
        "#transforma em tabelas para recuperar os dados da região norte, principalmente Manaus\r\n",
        "session_2020.createOrReplaceTempView(\"vw_dados_regiao_norte_2020\")\r\n",
        "\r\n",
        "#reduz os dados da tabela para trabalharmos apenas com Manaus\r\n",
        "dados_manaus_2020 =  scSpark.sql(\r\n",
        "    \"SELECT ANO, MES, TRIM(AREA) AS AREA, TRIM(NUMERO_AMOSTRA) AS NUMERO_AMOSTRA, TRIM(PARAMETRO) AS PARAMETRO, TRIM(RESULTADO) AS RESULTADO, (CASE WHEN RESULTADO = 'AUSENTE' THEN 0 ELSE 1 END) AS RESULTADO_FLAG   from vw_dados_regiao_norte_2020 where regiao_geografica = 'NORTE' and SIGLA_UF = 'AM' AND NOME_MUNICIPIO = 'MANAUS' and CATEGORIA_AREA = 'Bairro' and (PARAMETRO like '%Coli%' or PARAMETRO like '%coli%') AND ZONA = 'Urbana' ORDER BY AREA,MES, NUMERO_AMOSTRA\")\r\n",
        "print('Total de dados_regiao_norte_2020 = {}'.format(dados_manaus_2020.count()))\r\n",
        "dados_manaus_2020.show()"
      ],
      "execution_count": 68,
      "outputs": [
        {
          "output_type": "stream",
          "text": [
            "Total de dados_regiao_norte_2020 = 5671\n",
            "+-----+---+------------+--------------+-----------------+---------+--------------+\n",
            "|  ANO|MES|        AREA|NUMERO_AMOSTRA|        PARAMETRO|RESULTADO|RESULTADO_FLAG|\n",
            "+-----+---+------------+--------------+-----------------+---------+--------------+\n",
            "| 2020| 01|ADRIANOPOLIS|          0157| Escherichia coli|  AUSENTE|             1|\n",
            "| 2020| 01|ADRIANOPOLIS|          0157|Coliformes totais|  AUSENTE|             1|\n",
            "| 2020| 01|ADRIANOPOLIS|  200001000005|Coliformes totais|  AUSENTE|             1|\n",
            "| 2020| 01|ADRIANOPOLIS|  200001000005| Escherichia coli|  AUSENTE|             1|\n",
            "| 2020| 01|ADRIANOPOLIS|  200001000006| Escherichia coli|  AUSENTE|             1|\n",
            "| 2020| 01|ADRIANOPOLIS|  200001000006|Coliformes totais|  AUSENTE|             1|\n",
            "| 2020| 01|ADRIANOPOLIS|  200001000007|Coliformes totais|  AUSENTE|             1|\n",
            "| 2020| 01|ADRIANOPOLIS|  200001000007| Escherichia coli|  AUSENTE|             1|\n",
            "| 2020| 01|ADRIANOPOLIS|  200001000008| Escherichia coli|  AUSENTE|             1|\n",
            "| 2020| 01|ADRIANOPOLIS|  200001000008|Coliformes totais|  AUSENTE|             1|\n",
            "| 2020| 01|ADRIANOPOLIS|  200001000009| Escherichia coli|  AUSENTE|             1|\n",
            "| 2020| 01|ADRIANOPOLIS|  200001000009|Coliformes totais|  AUSENTE|             1|\n",
            "| 2020| 01|ADRIANOPOLIS|  200001000010| Escherichia coli|  AUSENTE|             1|\n",
            "| 2020| 01|ADRIANOPOLIS|  200001000010|Coliformes totais|  AUSENTE|             1|\n",
            "| 2020| 01|ADRIANOPOLIS|  200001000011| Escherichia coli|  AUSENTE|             1|\n",
            "| 2020| 01|ADRIANOPOLIS|  200001000011|Coliformes totais|  AUSENTE|             1|\n",
            "| 2020| 01|ADRIANOPOLIS|  200001000012|Coliformes totais|  AUSENTE|             1|\n",
            "| 2020| 01|ADRIANOPOLIS|  200001000012| Escherichia coli|  AUSENTE|             1|\n",
            "| 2020| 06|ADRIANOPOLIS|          0764| Escherichia coli|  AUSENTE|             1|\n",
            "| 2020| 06|ADRIANOPOLIS|          0764|Coliformes totais|  AUSENTE|             1|\n",
            "+-----+---+------------+--------------+-----------------+---------+--------------+\n",
            "only showing top 20 rows\n",
            "\n"
          ],
          "name": "stdout"
        }
      ]
    },
    {
      "cell_type": "code",
      "metadata": {
        "id": "iQEWjjKKLFDn",
        "colab": {
          "base_uri": "https://localhost:8080/"
        },
        "outputId": "96178f8f-a586-4cea-9566-b5384ad9165f"
      },
      "source": [
        "#após a redução para dados de Manaus, analisei que colunas seriam necessárias para trabalharmos\r\n",
        "#comecei identificando que colunas estão COM DADOS NULOS. Identifiquei latitude, longitude e nome_eta\r\n",
        "\r\n",
        "\r\n",
        "col_latitude = scSpark.sql(\"SELECT latitude from vw_dados_regiao_norte_2018 where TRIM(REGIAO_GEOGRAFICA) = 'NORTE' and latitude is not null and trim(nome_municipio) = 'MANAUS' \")\r\n",
        "print(\"2018\")\r\n",
        "col_latitude.show()\r\n",
        "\r\n",
        "col_latitude = scSpark.sql(\"SELECT latitude from vw_dados_regiao_norte_2019 where TRIM(REGIAO_GEOGRAFICA) = 'NORTE' and latitude is not null and trim(nome_municipio) = 'MANAUS' \")\r\n",
        "print(\"2019\")\r\n",
        "col_latitude.show()\r\n",
        "\r\n",
        "\r\n",
        "col_latitude = scSpark.sql(\"SELECT latitude from vw_dados_regiao_norte_2020 where TRIM(REGIAO_GEOGRAFICA) = 'NORTE' and latitude is not null and trim(nome_municipio) = 'MANAUS' \")\r\n",
        "print(\"2020\")\r\n",
        "col_latitude.show()\r\n",
        "\r\n",
        "\r\n",
        "col_longitude = scSpark.sql(\"SELECT longitude from vw_dados_regiao_norte_2018 where TRIM(REGIAO_GEOGRAFICA) = 'NORTE' and longitude is not null and trim(nome_municipio) = 'MANAUS'\")\r\n",
        "print(\"2018\")\r\n",
        "col_longitude.show()\r\n",
        "\r\n",
        "col_longitude = scSpark.sql(\"SELECT longitude from vw_dados_regiao_norte_2019 where TRIM(REGIAO_GEOGRAFICA) = 'NORTE' and longitude is not null and trim(nome_municipio) = 'MANAUS'\")\r\n",
        "print(\"2019\")\r\n",
        "col_longitude.show()\r\n",
        "\r\n",
        "col_longitude = scSpark.sql(\"SELECT longitude from vw_dados_regiao_norte_2020 where TRIM(REGIAO_GEOGRAFICA) = 'NORTE' and longitude is not null and trim(nome_municipio) = 'MANAUS'\")\r\n",
        "print(\"2020\")\r\n",
        "col_longitude.show()\r\n",
        "\r\n",
        "col_nome_eta = scSpark.sql(\r\n",
        "    \"select distinct nome_eta from vw_dados_regiao_norte_2018 where trim(regiao_geografica) = 'NORTE' and trim(nome_municipio) = 'MANAUS'\"\r\n",
        ") \r\n",
        "print(\"2018\")\r\n",
        "col_nome_eta.show()\r\n",
        "\r\n",
        "col_nome_eta = scSpark.sql(\r\n",
        "    \"select distinct nome_eta from vw_dados_regiao_norte_2019 where trim(regiao_geografica) = 'NORTE' and trim(nome_municipio) = 'MANAUS'\"\r\n",
        ") \r\n",
        "print(\"2019\")\r\n",
        "col_nome_eta.show()\r\n",
        "\r\n",
        "col_nome_eta = scSpark.sql(\r\n",
        "    \"select distinct nome_eta from vw_dados_regiao_norte_2020 where trim(regiao_geografica) = 'NORTE' and trim(nome_municipio) = 'MANAUS'\"\r\n",
        ") \r\n",
        "print(\"2020\")\r\n",
        "col_nome_eta.show()\r\n",
        "\r\n",
        "\r\n",
        "#Acredito que essas colunas podem ser removidas logo de cara (latitude, longitude e nome_eta), \r\n",
        "#uma vez que não possuem dados. Outras colunas que acho que podem ser removida são as colunas:\r\n",
        "\r\n",
        "#REGIAO_GEOGRAFICA: pois só estamos trabalhando apenas com a região norte\r\n",
        "#SIGLA_UF.........: pois como estamos trabalhando apenas com Manaus essa coluna não se faz necessária para caracterizar algo\r\n",
        "#NOME_MUNICIPIO...: Vai ser sempre MANAUS, então não precisamos dessa coluna\r\n",
        "#CODIGO_IBGE......: Esse código é utilizado pelo IBGE como ID do município, ele deve se repetir.\r\n",
        "#CNPJ_INSTITUICAO.: não irá influenciar na análise\r\n",
        "#CNPJ_ESCRITORIO..: não irá influenciar na análise\r\n",
        "#TIPO_LOCAL.......: não irá influenciar na análise e possui muitos valores nulos\r\n",
        "#LOCAL............: não irá influenciar na análise e possui muitos valores nulos\r\n",
        "\r\n",
        "#Vou verificar as demais colunas e identificar que colunas possuem um único valor e vou retirá-las\r\n",
        "\r\n",
        "#REGIONAL_SAUDE [REMOVER]\r\n",
        "col_regional_saude = scSpark.sql(\r\n",
        "    \"select distinct regional_de_saude from vw_dados_regiao_norte_2018 where trim(regiao_geografica) = 'NORTE' and trim(nome_municipio) = 'MANAUS'\"\r\n",
        ") \r\n",
        "print(\"2018\")\r\n",
        "col_regional_saude.show()\r\n",
        "\r\n",
        "col_regional_saude = scSpark.sql(\r\n",
        "    \"select distinct regional_de_saude from vw_dados_regiao_norte_2019 where trim(regiao_geografica) = 'NORTE' and trim(nome_municipio) = 'MANAUS'\"\r\n",
        ") \r\n",
        "print(\"2019\")\r\n",
        "col_regional_saude.show()\r\n",
        "\r\n",
        "col_regional_saude = scSpark.sql(\r\n",
        "    \"select distinct regional_de_saude from vw_dados_regiao_norte_2020 where trim(regiao_geografica) = 'NORTE' and trim(nome_municipio) = 'MANAUS'\"\r\n",
        ") \r\n",
        "print(\"2020\")\r\n",
        "col_regional_saude.show()\r\n",
        "\r\n",
        "\r\n",
        "\r\n",
        "#CODIGO_IBGE [REMOVER]\r\n",
        "#=====> RESULTADO DO DISTINCT PARA CODIGO_IBGE = 130260 <=====\r\n",
        "col_codigo_ibge = scSpark.sql(\r\n",
        "    \"select distinct codigo_ibge from vw_dados_regiao_norte_2018 where trim(regiao_geografica) = 'NORTE' and trim(nome_municipio) = 'MANAUS'\"\r\n",
        ") \r\n",
        "print(\"2018\")\r\n",
        "col_codigo_ibge.show()\r\n",
        "\r\n",
        "col_codigo_ibge = scSpark.sql(\r\n",
        "    \"select distinct codigo_ibge from vw_dados_regiao_norte_2019 where trim(regiao_geografica) = 'NORTE' and trim(nome_municipio) = 'MANAUS'\"\r\n",
        ") \r\n",
        "print(\"2019\")\r\n",
        "col_codigo_ibge.show()\r\n",
        "\r\n",
        "\r\n",
        "col_codigo_ibge = scSpark.sql(\r\n",
        "    \"select distinct codigo_ibge from vw_dados_regiao_norte_2020 where trim(regiao_geografica) = 'NORTE' and trim(nome_municipio) = 'MANAUS'\"\r\n",
        ") \r\n",
        "print(\"2020\")\r\n",
        "col_codigo_ibge.show()\r\n",
        "\r\n",
        "\r\n",
        "#MOTIVO_COLETA [REMOVER]\r\n",
        "#=====> RESULTADO DO DISTINCT PARA MOTIVO_COLETA = ROTINA <=====\r\n",
        "col_motivo_coleta = scSpark.sql(\r\n",
        "    \"select distinct motivo_coleta from vw_dados_regiao_norte_2018 where trim(regiao_geografica) = 'NORTE' and trim(nome_municipio) = 'MANAUS'\"\r\n",
        ") \r\n",
        "print(\"2018\")\r\n",
        "col_motivo_coleta.show()\r\n",
        "\r\n",
        "col_motivo_coleta = scSpark.sql(\r\n",
        "    \"select distinct motivo_coleta from vw_dados_regiao_norte_2019 where trim(regiao_geografica) = 'NORTE' and trim(nome_municipio) = 'MANAUS'\"\r\n",
        ") \r\n",
        "print(\"2019\")\r\n",
        "col_motivo_coleta.show()\r\n",
        "\r\n",
        "col_motivo_coleta = scSpark.sql(\r\n",
        "    \"select distinct motivo_coleta from vw_dados_regiao_norte_2020 where trim(regiao_geografica) = 'NORTE' and trim(nome_municipio) = 'MANAUS'\"\r\n",
        ") \r\n",
        "print(\"2020\")\r\n",
        "col_motivo_coleta.show()\r\n",
        "\r\n",
        "\r\n",
        "#ZONA [NÃO REMOVER]\r\n",
        "#=====> RESULTADO DO DISTINCT PARA ZONA = URBANA  <=====\r\n",
        "col_zona = scSpark.sql(\r\n",
        "    \"select distinct zona from vw_dados_regiao_norte_2018 where trim(regiao_geografica) = 'NORTE' and trim(nome_municipio) = 'MANAUS'\"\r\n",
        ") \r\n",
        "print(\"2018\")\r\n",
        "col_zona.show()\r\n",
        "\r\n",
        "col_zona = scSpark.sql(\r\n",
        "    \"select distinct zona from vw_dados_regiao_norte_2019 where trim(regiao_geografica) = 'NORTE' and trim(nome_municipio) = 'MANAUS'\"\r\n",
        ") \r\n",
        "print(\"2019\")\r\n",
        "col_zona.show()\r\n",
        "\r\n",
        "col_zona = scSpark.sql(\r\n",
        "    \"select distinct zona from vw_dados_regiao_norte_2020 where trim(regiao_geografica) = 'NORTE' and trim(nome_municipio) = 'MANAUS'\"\r\n",
        ") \r\n",
        "print(\"2020\")\r\n",
        "col_zona.show()\r\n",
        "\r\n",
        "\r\n",
        "#CATEGORIA_AREA [NÃO REMOVER]\r\n",
        "#=====> RESULTADO DO DISTINCT PARA CATEGORIA_AREA = BAIRRO <=====\r\n",
        "col_categoria_area = scSpark.sql(\r\n",
        "    \"select distinct categoria_area from vw_dados_regiao_norte_2018 where trim(regiao_geografica) = 'NORTE' and trim(nome_municipio) = 'MANAUS'\"\r\n",
        ") \r\n",
        "print(\"2018\")\r\n",
        "col_categoria_area.show()\r\n",
        "\r\n",
        "analise_categoria_area = scSpark.sql(\r\n",
        "    \"select * from vw_dados_regiao_norte_2018 where trim(regiao_geografica) = 'NORTE' and trim(nome_municipio) = 'MANAUS' and trim(categoria_area) = 'Povoado/Lugarejo'\"\r\n",
        ")\r\n",
        "print(\"2018\")\r\n",
        "analise_categoria_area.show()\r\n",
        "\r\n",
        "col_categoria_area = scSpark.sql(\r\n",
        "    \"select distinct categoria_area from vw_dados_regiao_norte_2019 where trim(regiao_geografica) = 'NORTE' and trim(nome_municipio) = 'MANAUS'\"\r\n",
        ") \r\n",
        "print(\"2019\")\r\n",
        "col_categoria_area.show()\r\n",
        "\r\n",
        "col_categoria_area = scSpark.sql(\r\n",
        "    \"select distinct categoria_area from vw_dados_regiao_norte_2020 where trim(regiao_geografica) = 'NORTE' and trim(nome_municipio) = 'MANAUS'\"\r\n",
        ") \r\n",
        "print(\"2020\")\r\n",
        "col_categoria_area.show()\r\n",
        "\r\n"
      ],
      "execution_count": 27,
      "outputs": [
        {
          "output_type": "stream",
          "text": [
            "2018\n",
            "+--------+\n",
            "|latitude|\n",
            "+--------+\n",
            "+--------+\n",
            "\n",
            "2019\n",
            "+--------+\n",
            "|latitude|\n",
            "+--------+\n",
            "+--------+\n",
            "\n",
            "2020\n",
            "+--------+\n",
            "|latitude|\n",
            "+--------+\n",
            "+--------+\n",
            "\n",
            "2018\n",
            "+---------+\n",
            "|longitude|\n",
            "+---------+\n",
            "+---------+\n",
            "\n",
            "2019\n",
            "+---------+\n",
            "|longitude|\n",
            "+---------+\n",
            "+---------+\n",
            "\n",
            "2020\n",
            "+---------+\n",
            "|longitude|\n",
            "+---------+\n",
            "+---------+\n",
            "\n",
            "2018\n",
            "+--------------------+\n",
            "|            nome_eta|\n",
            "+--------------------+\n",
            "|                 ...|\n",
            "+--------------------+\n",
            "\n",
            "2019\n",
            "+--------------------+\n",
            "|            nome_eta|\n",
            "+--------------------+\n",
            "|                 ...|\n",
            "+--------------------+\n",
            "\n",
            "2020\n",
            "+--------------------+\n",
            "|            nome_eta|\n",
            "+--------------------+\n",
            "|                 ...|\n",
            "+--------------------+\n",
            "\n",
            "2018\n",
            "+--------------------+\n",
            "|   regional_de_saude|\n",
            "+--------------------+\n",
            "|UNICA            ...|\n",
            "+--------------------+\n",
            "\n",
            "2019\n",
            "+--------------------+\n",
            "|   regional_de_saude|\n",
            "+--------------------+\n",
            "|UNICA            ...|\n",
            "+--------------------+\n",
            "\n",
            "2020\n",
            "+--------------------+\n",
            "|   regional_de_saude|\n",
            "+--------------------+\n",
            "|UNICA            ...|\n",
            "+--------------------+\n",
            "\n",
            "2018\n",
            "+--------------------+\n",
            "|         codigo_ibge|\n",
            "+--------------------+\n",
            "|130260           ...|\n",
            "+--------------------+\n",
            "\n",
            "2019\n",
            "+--------------------+\n",
            "|         codigo_ibge|\n",
            "+--------------------+\n",
            "|130260           ...|\n",
            "+--------------------+\n",
            "\n",
            "2020\n",
            "+--------------------+\n",
            "|         codigo_ibge|\n",
            "+--------------------+\n",
            "|130260           ...|\n",
            "+--------------------+\n",
            "\n",
            "2018\n",
            "+--------------------+\n",
            "|       motivo_coleta|\n",
            "+--------------------+\n",
            "|Desastre            |\n",
            "|Surto               |\n",
            "|Rotina              |\n",
            "+--------------------+\n",
            "\n",
            "2019\n",
            "+--------------------+\n",
            "|       motivo_coleta|\n",
            "+--------------------+\n",
            "|Desastre            |\n",
            "|Surto               |\n",
            "|Rotina              |\n",
            "+--------------------+\n",
            "\n",
            "2020\n",
            "+--------------------+\n",
            "|       motivo_coleta|\n",
            "+--------------------+\n",
            "|Rotina              |\n",
            "+--------------------+\n",
            "\n",
            "2018\n",
            "+------+\n",
            "|  zona|\n",
            "+------+\n",
            "|Urbana|\n",
            "| Rural|\n",
            "+------+\n",
            "\n",
            "2019\n",
            "+-------+\n",
            "|   zona|\n",
            "+-------+\n",
            "|Urbana |\n",
            "|Rural  |\n",
            "+-------+\n",
            "\n",
            "2020\n",
            "+------+\n",
            "|  zona|\n",
            "+------+\n",
            "|Urbana|\n",
            "+------+\n",
            "\n",
            "2018\n",
            "+----------------+\n",
            "|  categoria_area|\n",
            "+----------------+\n",
            "|Povoado/Lugarejo|\n",
            "|          Bairro|\n",
            "+----------------+\n",
            "\n",
            "2018\n",
            "+-----------------+--------+--------------------+--------------+--------------------+---------------+--------------------+------------------------+--------------------------+------------------------+--------------------+-----------------+--------------------+--------------------+------------------------------+---------------+--------------------+-----+---+--------------------+--------------------+---------------------+--------------------+--------------------+--------------------+-----+----------------+---------------+--------------------+--------------------+--------+---------+--------------------+--------------------+--------------------+--------------------+\n",
            "|REGIAO_GEOGRAFICA|SIGLA_UF|   REGIONAL_DE_SAUDE|NOME_MUNICIPIO|         CODIGO_IBGE| NUMERO_AMOSTRA|       MOTIVO_COLETA|TIPO_FORMA_ABASTECIMENTO|CODIGO_FORMA_ABASTECIMENTO|NOME_FORMA_ABASTECIMENTO| Tipo da Instituição|Sigla Instituição| Nome da Instituição|    CNPJ_INSTITUICAO|Nome escritório regional/local|CNPJ_ESCRITORIO|            NOME_ETA|  ANO|MES|         DATA_COLETA|          DATA_LAUDO|DATA_REGISTRO_SISAGUA|  PROCEDENCIA_COLETA|        PONTO_COLETA|     DESCRICAO_LOCAL| ZONA|  CATEGORIA_AREA|           AREA|          TIPO_LOCAL|               LOCAL|LATITUDE|LONGITUDE|           PARAMETRO| 'Análise realizada'|           RESULTADO|       'Providência'|\n",
            "+-----------------+--------+--------------------+--------------+--------------------+---------------+--------------------+------------------------+--------------------------+------------------------+--------------------+-----------------+--------------------+--------------------+------------------------------+---------------+--------------------+-----+---+--------------------+--------------------+---------------------+--------------------+--------------------+--------------------+-----+----------------+---------------+--------------------+--------------------+--------+---------+--------------------+--------------------+--------------------+--------------------+\n",
            "|            NORTE|      AM|UNICA            ...|        MANAUS|130260           ...|180001001235   |Rotina              |              SAC       |            C130260000566 |    CENTRO MARIÁPOLIS...|Serviço Municipal...|                 |CENTRO MARIAPOLIS...| 0000000506155400...|                           ...|           null|                 ...| 2018| 07|2018/07/09 00:00:...|2018/07/23 00:00:...| 2018/07/24 17:11:...|INTRA-DOMICILIAR ...|Reservatório de á...|RODOVIA AM-10 S/N...|Rural|Povoado/Lugarejo|KM 26, AM - 010|Outro            ...|CENTRO MARIAPOLIS...|    null|     null|Turbidez (uT)    ...|EM_LABORATORIO   ...|1,90             ...|                 ...|\n",
            "|            NORTE|      AM|UNICA            ...|        MANAUS|130260           ...|180001000549   |Rotina              |              SAC       |            C130260000566 |    CENTRO MARIÁPOLIS...|Serviço Municipal...|                 |CENTRO MARIAPOLIS...| 0000000506155400...|                           ...|           null|                 ...| 2018| 05|2018/05/28 00:00:...|2018/06/06 00:00:...| 2018/06/07 11:38:...|SOLUÇÃO ALTERNATI...|                 ...|  RODOVOA AM-10 S...|Rural|Povoado/Lugarejo|KM 26, AM - 010|Outro            ...|CENTRO MARIAPOLIS...|    null|     null|Turbidez (uT)    ...|EM_LABORATORIO   ...|3,66             ...|                 ...|\n",
            "|            NORTE|      AM|UNICA            ...|        MANAUS|130260           ...|180001001235   |Rotina              |              SAC       |            C130260000566 |    CENTRO MARIÁPOLIS...|Serviço Municipal...|                 |CENTRO MARIAPOLIS...| 0000000506155400...|                           ...|           null|                 ...| 2018| 07|2018/07/09 00:00:...|2018/07/23 00:00:...| 2018/07/24 17:11:...|INTRA-DOMICILIAR ...|Reservatório de á...|RODOVIA AM-10 S/N...|Rural|Povoado/Lugarejo|KM 26, AM - 010|Outro            ...|CENTRO MARIAPOLIS...|    null|     null|Cor (uH)         ...|                 ...|5,742            ...|                 ...|\n",
            "|            NORTE|      AM|UNICA            ...|        MANAUS|130260           ...|180001000549   |Rotina              |              SAC       |            C130260000566 |    CENTRO MARIÁPOLIS...|Serviço Municipal...|                 |CENTRO MARIAPOLIS...| 0000000506155400...|                           ...|           null|                 ...| 2018| 05|2018/05/28 00:00:...|2018/06/06 00:00:...| 2018/06/07 11:38:...|SOLUÇÃO ALTERNATI...|                 ...|  RODOVOA AM-10 S...|Rural|Povoado/Lugarejo|KM 26, AM - 010|Outro            ...|CENTRO MARIAPOLIS...|    null|     null|pH               ...|                 ...|4,63             ...|                 ...|\n",
            "|            NORTE|      AM|UNICA            ...|        MANAUS|130260           ...|180001001234   |Rotina              |              SAC       |            C130260000566 |    CENTRO MARIÁPOLIS...|Serviço Municipal...|                 |CENTRO MARIAPOLIS...| 0000000506155400...|                           ...|           null|                 ...| 2018| 07|2018/07/09 00:00:...|2018/07/23 00:00:...| 2018/07/24 16:55:...|SOLUÇÃO ALTERNATI...|                 ...|RODOVIA AM-10 S/N...|Rural|Povoado/Lugarejo|KM 26, AM - 010|Outro            ...|CENTRO MARIAPOLIS...|    null|     null|Cor (uH)         ...|                 ...|2,437            ...|                 ...|\n",
            "|            NORTE|      AM|UNICA            ...|        MANAUS|130260           ...|180001001234   |Rotina              |              SAC       |            C130260000566 |    CENTRO MARIÁPOLIS...|Serviço Municipal...|                 |CENTRO MARIAPOLIS...| 0000000506155400...|                           ...|           null|                 ...| 2018| 07|2018/07/09 00:00:...|2018/07/23 00:00:...| 2018/07/24 16:55:...|SOLUÇÃO ALTERNATI...|                 ...|RODOVIA AM-10 S/N...|Rural|Povoado/Lugarejo|KM 26, AM - 010|Outro            ...|CENTRO MARIAPOLIS...|    null|     null|Turbidez (uT)    ...|EM_LABORATORIO   ...|6,07             ...|                 ...|\n",
            "|            NORTE|      AM|UNICA            ...|        MANAUS|130260           ...|180001000550   |Rotina              |              SAC       |            C130260000566 |    CENTRO MARIÁPOLIS...|Serviço Municipal...|                 |CENTRO MARIAPOLIS...| 0000000506155400...|                           ...|           null|                 ...| 2018| 05|2018/05/28 00:00:...|2018/06/05 00:00:...| 2018/06/07 11:45:...|INTRA-DOMICILIAR ...|Bebedouro        ...|RODOVOA AM-10 S/N...|Rural|Povoado/Lugarejo|KM 26, AM - 010|Outro            ...|CENTRO MARIAPOLIS...|    null|     null|Coliformes totais...|                 ...|AUSENTE          ...|                 ...|\n",
            "|            NORTE|      AM|UNICA            ...|        MANAUS|130260           ...|180001001236   |Rotina              |              SAC       |            C130260000566 |    CENTRO MARIÁPOLIS...|Serviço Municipal...|                 |CENTRO MARIAPOLIS...| 0000000506155400...|                           ...|           null|                 ...| 2018| 07|2018/07/09 00:00:...|2018/07/19 00:00:...| 2018/07/25 14:10:...|INTRA-DOMICILIAR ...|Bebedouro        ...|RODOVIA AM-10 S/N...|Rural|Povoado/Lugarejo|KM 26, AM - 010|Outro            ...|CENTRO MARIAPOLIS...|    null|     null|Coliformes totais...|                 ...|AUSENTE          ...|                 ...|\n",
            "|            NORTE|      AM|UNICA            ...|        MANAUS|130260           ...|180001001235   |Rotina              |              SAC       |            C130260000566 |    CENTRO MARIÁPOLIS...|Serviço Municipal...|                 |CENTRO MARIAPOLIS...| 0000000506155400...|                           ...|           null|                 ...| 2018| 07|2018/07/09 00:00:...|2018/07/23 00:00:...| 2018/07/24 17:11:...|INTRA-DOMICILIAR ...|Reservatório de á...|RODOVIA AM-10 S/N...|Rural|Povoado/Lugarejo|KM 26, AM - 010|Outro            ...|CENTRO MARIAPOLIS...|    null|     null|Coliformes totais...|                 ...|PRESENTE         ...|                 ...|\n",
            "|            NORTE|      AM|UNICA            ...|        MANAUS|130260           ...|180001001236   |Rotina              |              SAC       |            C130260000566 |    CENTRO MARIÁPOLIS...|Serviço Municipal...|                 |CENTRO MARIAPOLIS...| 0000000506155400...|                           ...|           null|                 ...| 2018| 07|2018/07/09 00:00:...|2018/07/19 00:00:...| 2018/07/25 14:10:...|INTRA-DOMICILIAR ...|Bebedouro        ...|RODOVIA AM-10 S/N...|Rural|Povoado/Lugarejo|KM 26, AM - 010|Outro            ...|CENTRO MARIAPOLIS...|    null|     null|Escherichia coli ...|                 ...|AUSENTE          ...|                 ...|\n",
            "|            NORTE|      AM|UNICA            ...|        MANAUS|130260           ...|180001001237   |Rotina              |              SAC       |            C130260000566 |    CENTRO MARIÁPOLIS...|Serviço Municipal...|                 |CENTRO MARIAPOLIS...| 0000000506155400...|                           ...|           null|                 ...| 2018| 07|2018/07/09 00:00:...|2018/07/19 00:00:...| 2018/07/25 14:18:...|INTRA-DOMICILIAR ...|Bebedouro        ...|RODOVIA AM-10 S/N...|Rural|Povoado/Lugarejo|KM 26, AM - 010|Outro            ...|CENTRO MARIAPOLIS...|    null|     null|Escherichia coli ...|                 ...|AUSENTE          ...|                 ...|\n",
            "|            NORTE|      AM|UNICA            ...|        MANAUS|130260           ...|180001001238   |Rotina              |              SAC       |            C130260000566 |    CENTRO MARIÁPOLIS...|Serviço Municipal...|                 |CENTRO MARIAPOLIS...| 0000000506155400...|                           ...|           null|                 ...| 2018| 07|2018/07/09 00:00:...|2018/07/19 00:00:...| 2018/07/25 14:23:...|INTRA-DOMICILIAR ...|Torneira após a r...|RODOVIA AM-10 S/N...|Rural|Povoado/Lugarejo|KM 26, AM - 010|Outro            ...|CENTRO MARIAPOLIS...|    null|     null|Coliformes totais...|                 ...|PRESENTE         ...|                 ...|\n",
            "|            NORTE|      AM|UNICA            ...|        MANAUS|130260           ...|180001001238   |Rotina              |              SAC       |            C130260000566 |    CENTRO MARIÁPOLIS...|Serviço Municipal...|                 |CENTRO MARIAPOLIS...| 0000000506155400...|                           ...|           null|                 ...| 2018| 07|2018/07/09 00:00:...|2018/07/19 00:00:...| 2018/07/25 14:23:...|INTRA-DOMICILIAR ...|Torneira após a r...|RODOVIA AM-10 S/N...|Rural|Povoado/Lugarejo|KM 26, AM - 010|Outro            ...|CENTRO MARIAPOLIS...|    null|     null|Escherichia coli ...|                 ...|AUSENTE          ...|                 ...|\n",
            "|            NORTE|      AM|UNICA            ...|        MANAUS|130260           ...|180001001235   |Rotina              |              SAC       |            C130260000566 |    CENTRO MARIÁPOLIS...|Serviço Municipal...|                 |CENTRO MARIAPOLIS...| 0000000506155400...|                           ...|           null|                 ...| 2018| 07|2018/07/09 00:00:...|2018/07/23 00:00:...| 2018/07/24 17:11:...|INTRA-DOMICILIAR ...|Reservatório de á...|RODOVIA AM-10 S/N...|Rural|Povoado/Lugarejo|KM 26, AM - 010|Outro            ...|CENTRO MARIAPOLIS...|    null|     null|Escherichia coli ...|                 ...|AUSENTE          ...|                 ...|\n",
            "|            NORTE|      AM|UNICA            ...|        MANAUS|130260           ...|180001001234   |Rotina              |              SAC       |            C130260000566 |    CENTRO MARIÁPOLIS...|Serviço Municipal...|                 |CENTRO MARIAPOLIS...| 0000000506155400...|                           ...|           null|                 ...| 2018| 07|2018/07/09 00:00:...|2018/07/23 00:00:...| 2018/07/24 16:55:...|SOLUÇÃO ALTERNATI...|                 ...|RODOVIA AM-10 S/N...|Rural|Povoado/Lugarejo|KM 26, AM - 010|Outro            ...|CENTRO MARIAPOLIS...|    null|     null|Escherichia coli ...|                 ...|AUSENTE          ...|                 ...|\n",
            "|            NORTE|      AM|UNICA            ...|        MANAUS|130260           ...|180001000551   |Rotina              |              SAC       |            C130260000566 |    CENTRO MARIÁPOLIS...|Serviço Municipal...|                 |CENTRO MARIAPOLIS...| 0000000506155400...|                           ...|           null|                 ...| 2018| 05|2018/05/28 00:00:...|2018/06/05 00:00:...| 2018/06/07 11:35:...|INTRA-DOMICILIAR ...|Torneira após a r...|  RODOVOA AM-10 S...|Rural|Povoado/Lugarejo|KM 26, AM - 010|                 ...|                 ...|    null|     null|Coliformes totais...|                 ...|PRESENTE         ...|                 ...|\n",
            "|            NORTE|      AM|UNICA            ...|        MANAUS|130260           ...|180001000550   |Rotina              |              SAC       |            C130260000566 |    CENTRO MARIÁPOLIS...|Serviço Municipal...|                 |CENTRO MARIAPOLIS...| 0000000506155400...|                           ...|           null|                 ...| 2018| 05|2018/05/28 00:00:...|2018/06/05 00:00:...| 2018/06/07 11:45:...|INTRA-DOMICILIAR ...|Bebedouro        ...|RODOVOA AM-10 S/N...|Rural|Povoado/Lugarejo|KM 26, AM - 010|Outro            ...|CENTRO MARIAPOLIS...|    null|     null|Escherichia coli ...|                 ...|AUSENTE          ...|                 ...|\n",
            "|            NORTE|      AM|UNICA            ...|        MANAUS|130260           ...|180001001237   |Rotina              |              SAC       |            C130260000566 |    CENTRO MARIÁPOLIS...|Serviço Municipal...|                 |CENTRO MARIAPOLIS...| 0000000506155400...|                           ...|           null|                 ...| 2018| 07|2018/07/09 00:00:...|2018/07/19 00:00:...| 2018/07/25 14:18:...|INTRA-DOMICILIAR ...|Bebedouro        ...|RODOVIA AM-10 S/N...|Rural|Povoado/Lugarejo|KM 26, AM - 010|Outro            ...|CENTRO MARIAPOLIS...|    null|     null|Coliformes totais...|                 ...|AUSENTE          ...|                 ...|\n",
            "|            NORTE|      AM|UNICA            ...|        MANAUS|130260           ...|180001000551   |Rotina              |              SAC       |            C130260000566 |    CENTRO MARIÁPOLIS...|Serviço Municipal...|                 |CENTRO MARIAPOLIS...| 0000000506155400...|                           ...|           null|                 ...| 2018| 05|2018/05/28 00:00:...|2018/06/05 00:00:...| 2018/06/07 11:35:...|INTRA-DOMICILIAR ...|Torneira após a r...|  RODOVOA AM-10 S...|Rural|Povoado/Lugarejo|KM 26, AM - 010|                 ...|                 ...|    null|     null|Escherichia coli ...|                 ...|PRESENTE         ...|                 ...|\n",
            "|            NORTE|      AM|UNICA            ...|        MANAUS|130260           ...|180001000549   |Rotina              |              SAC       |            C130260000566 |    CENTRO MARIÁPOLIS...|Serviço Municipal...|                 |CENTRO MARIAPOLIS...| 0000000506155400...|                           ...|           null|                 ...| 2018| 05|2018/05/28 00:00:...|2018/06/06 00:00:...| 2018/06/07 11:38:...|SOLUÇÃO ALTERNATI...|                 ...|  RODOVOA AM-10 S...|Rural|Povoado/Lugarejo|KM 26, AM - 010|Outro            ...|CENTRO MARIAPOLIS...|    null|     null|Coliformes totais...|                 ...|PRESENTE         ...|                 ...|\n",
            "+-----------------+--------+--------------------+--------------+--------------------+---------------+--------------------+------------------------+--------------------------+------------------------+--------------------+-----------------+--------------------+--------------------+------------------------------+---------------+--------------------+-----+---+--------------------+--------------------+---------------------+--------------------+--------------------+--------------------+-----+----------------+---------------+--------------------+--------------------+--------+---------+--------------------+--------------------+--------------------+--------------------+\n",
            "only showing top 20 rows\n",
            "\n",
            "2019\n",
            "+--------------------+\n",
            "|      categoria_area|\n",
            "+--------------------+\n",
            "|Comunidade Ribeir...|\n",
            "|Núcleo/Propriedad...|\n",
            "|              Bairro|\n",
            "+--------------------+\n",
            "\n",
            "2020\n",
            "+--------------+\n",
            "|categoria_area|\n",
            "+--------------+\n",
            "|        Bairro|\n",
            "+--------------+\n",
            "\n"
          ],
          "name": "stdout"
        }
      ]
    },
    {
      "cell_type": "code",
      "metadata": {
        "id": "RzBqJnhrp2dP"
      },
      "source": [
        "#removendo colunas desnecessárias\r\n",
        "#tem umas colunas que não removi pq não sei remover colunas tipo: Tipo da Instituição. \r\n",
        "#Não é comum ter esse tipo de nome separados por espaços. \r\n",
        "#Vou transformar em dataframe pandas pra ver se é mais fácil remover\r\n",
        "\r\n",
        "dados_manaus_2018 = reduce(DataFrame.drop,['LATITUDE', 'LONGITUDE', 'NOME_ETA','REGIAO_GEOGRAFICA', 'SIGLA_UF', 'NOME_MUNICIPIO', 'CODIGO_IBGE', 'CNPJ_INSTITUICAO', 'CNPJ_ESCRITORIO', 'TIPO_LOCAL', 'LOCAL', 'REGIONAL_DE_SAUDE', 'MOTIVO_COLETA'],dados_manaus_2018)\r\n",
        "dados_manaus_2019 = reduce(DataFrame.drop,['LATITUDE', 'LONGITUDE', 'NOME_ETA','REGIAO_GEOGRAFICA', 'SIGLA_UF', 'NOME_MUNICIPIO', 'CODIGO_IBGE', 'CNPJ_INSTITUICAO', 'CNPJ_ESCRITORIO', 'TIPO_LOCAL', 'LOCAL', 'REGIONAL_DE_SAUDE', 'MOTIVO_COLETA'],dados_manaus_2019)\r\n",
        "dados_manaus_2020 = reduce(DataFrame.drop,['LATITUDE', 'LONGITUDE', 'NOME_ETA','REGIAO_GEOGRAFICA', 'SIGLA_UF', 'NOME_MUNICIPIO', 'CODIGO_IBGE', 'CNPJ_INSTITUICAO', 'CNPJ_ESCRITORIO', 'TIPO_LOCAL', 'LOCAL', 'REGIONAL_DE_SAUDE', 'MOTIVO_COLETA'],dados_manaus_2020)"
      ],
      "execution_count": 39,
      "outputs": []
    },
    {
      "cell_type": "code",
      "metadata": {
        "colab": {
          "base_uri": "https://localhost:8080/"
        },
        "id": "2rdiS--jcE3c",
        "outputId": "4b8d743d-1382-44dc-c8e8-91ba40bb13db"
      },
      "source": [
        "#Transformação dos dataframes em views para juntar os dados\r\n",
        "dados_manaus_2018.createOrReplaceTempView(\"vw_dados_manaus_2018\")\r\n",
        "dados_manaus_2019.createOrReplaceTempView(\"vw_dados_manaus_2019\")\r\n",
        "dados_manaus_2020.createOrReplaceTempView(\"vw_dados_manaus_2020\")\r\n",
        "\r\n",
        "dados_manaus_consolidado = scSpark.sql(\"select A.ANO, A.MES, A.AREA, A.NUMERO_AMOSTRA, A.PARAMETRO, A.RESULTADO, (CASE WHEN A.RESULTADO = 'AUSENTE' THEN 0 ELSE 1 END) AS RESULTADO_FLAG from vw_dados_manaus_2018 A union select B.ANO, B.MES, B.AREA, B.NUMERO_AMOSTRA, B.PARAMETRO, B.RESULTADO, (CASE WHEN B.RESULTADO = 'AUSENTE' THEN 0 ELSE 1 END) AS RESULTADO_FLAG from vw_dados_manaus_2019 B union select C.ANO, C.MES, C.AREA, C.NUMERO_AMOSTRA, C.PARAMETRO, C.RESULTADO, (CASE WHEN C.RESULTADO = 'AUSENTE' THEN 0 ELSE 1 END) AS RESULTADO_FLAG from vw_dados_manaus_2020 C\")\r\n",
        "print('Total de dados_manaus_consolidade = {}'.format(dados_manaus_consolidado.count()))\r\n",
        "dados_manaus_consolidado.show()"
      ],
      "execution_count": 70,
      "outputs": [
        {
          "output_type": "stream",
          "text": [
            "Total de dados_manaus_consolidade = 20347\n",
            "+-----+---+-------------------+--------------+-----------------+---------+--------------+\n",
            "|  ANO|MES|               AREA|NUMERO_AMOSTRA|        PARAMETRO|RESULTADO|RESULTADO_FLAG|\n",
            "+-----+---+-------------------+--------------+-----------------+---------+--------------+\n",
            "| 2018| 10|           ALVORADA|  180001001412| Escherichia coli|  AUSENTE|             0|\n",
            "| 2018| 05|          APARECIDA|  180001000840| Escherichia coli|  AUSENTE|             0|\n",
            "| 2018| 11|     ARMANDO MENDES|  180001001886|Coliformes totais|  AUSENTE|             0|\n",
            "| 2018| 04|       CACHOEIRINHA|  180001000702|Coliformes totais|  AUSENTE|             0|\n",
            "| 2018| 04|             CENTRO|  180001000541|Coliformes totais|  AUSENTE|             0|\n",
            "| 2018| 04|             CENTRO|  180001000611|Coliformes totais|  AUSENTE|             0|\n",
            "| 2018| 04|        CIDADE NOVA|          0671|Coliformes totais| PRESENTE|             1|\n",
            "| 2018| 10|        CIDADE NOVA|  180001001861| Escherichia coli|  AUSENTE|             0|\n",
            "| 2018| 10|        CIDADE NOVA|  180001001862|Coliformes totais|  AUSENTE|             0|\n",
            "| 2018| 06| COLONIA TERRA NOVA|  180001001037| Escherichia coli|  AUSENTE|             0|\n",
            "| 2018| 12|          DOM PEDRO|  180001001826|Coliformes totais| PRESENTE|             1|\n",
            "| 2018| 04|          EDUCANDOS|          0626|Coliformes totais|  AUSENTE|             0|\n",
            "| 2018| 04| GILBERTO MESTRINHO|          0483|Coliformes totais|  AUSENTE|             0|\n",
            "| 2018| 03|             JAPIIM|          0332| Escherichia coli|  AUSENTE|             0|\n",
            "| 2018| 05|             JAPIIM|          0831| Escherichia coli|  AUSENTE|             0|\n",
            "| 2018| 06|      LIRIO DO VALE|          1101|Coliformes totais|  AUSENTE|             0|\n",
            "| 2018| 10|MONTE DAS OLIVEIRAS|  180001001743|Coliformes totais| PRESENTE|             1|\n",
            "| 2018| 02|        NOVA CIDADE|  180001000060|Coliformes totais|  AUSENTE|             0|\n",
            "| 2018| 02|        NOVA CIDADE|  180001000332| Escherichia coli|  AUSENTE|             0|\n",
            "| 2018| 05|        NOVA CIDADE|          0904| Escherichia coli|  AUSENTE|             0|\n",
            "+-----+---+-------------------+--------------+-----------------+---------+--------------+\n",
            "only showing top 20 rows\n",
            "\n"
          ],
          "name": "stdout"
        }
      ]
    },
    {
      "cell_type": "code",
      "metadata": {
        "id": "wKvVse3UwxhS"
      },
      "source": [
        "#cria a view com dados de 2018 a 2020 para que possa ser realizada a análise\r\n",
        "dados_manaus_consolidado.createOrReplaceTempView(\"vw_manaus_consolidado\")"
      ],
      "execution_count": 71,
      "outputs": []
    },
    {
      "cell_type": "code",
      "metadata": {
        "id": "TwztapLFxFRG"
      },
      "source": [
        "analise_amostras_bairro = \"select ano, bairro, count(*) qtd_\""
      ],
      "execution_count": null,
      "outputs": []
    },
    {
      "cell_type": "code",
      "metadata": {
        "id": "vTqdlN8nrg85"
      },
      "source": [
        "#transforma em dataframe padas\r\n",
        "df_dados_manaus_2020 = dados_manaus_2020.toPandas()"
      ],
      "execution_count": 19,
      "outputs": []
    },
    {
      "cell_type": "code",
      "metadata": {
        "id": "ZKtG1op7s8xk"
      },
      "source": [
        "#renomeia as colunas que estavam com nome separado por espaços em branco\r\n",
        "#axis = 1 indica que queremos altera o label da coluna. Se fosse 0 alteraríamos a label do índice\r\n",
        "df_dados_manaus_2020 = df_dados_manaus_2020.rename(\r\n",
        "    {'Tipo da Instituição': 'TIPO_INSTITUICAO' , \r\n",
        "     'Sigla Instituição'  : 'SIGLA_INSTITUICAO', \r\n",
        "     'Nome da Instituição': 'NOME_INSTITUICAO' ,\r\n",
        "     'Nome escritório regional/local': 'NOME_ESCRITORIO_REGIONAL',\r\n",
        "     \"'Análise realizada'\": 'ANALISE_REALIZADA',\r\n",
        "     \"'Providência'\"  : 'PROVIDENCIA'}, axis = 1) "
      ],
      "execution_count": 20,
      "outputs": []
    },
    {
      "cell_type": "code",
      "metadata": {
        "id": "-vH77PvouORe",
        "colab": {
          "base_uri": "https://localhost:8080/",
          "height": 411
        },
        "outputId": "cee71a25-203d-48cc-eed8-189859612d9e"
      },
      "source": [
        "df_dados_manaus_2020.tail()"
      ],
      "execution_count": 21,
      "outputs": [
        {
          "output_type": "execute_result",
          "data": {
            "text/html": [
              "<div>\n",
              "<style scoped>\n",
              "    .dataframe tbody tr th:only-of-type {\n",
              "        vertical-align: middle;\n",
              "    }\n",
              "\n",
              "    .dataframe tbody tr th {\n",
              "        vertical-align: top;\n",
              "    }\n",
              "\n",
              "    .dataframe thead th {\n",
              "        text-align: right;\n",
              "    }\n",
              "</style>\n",
              "<table border=\"1\" class=\"dataframe\">\n",
              "  <thead>\n",
              "    <tr style=\"text-align: right;\">\n",
              "      <th></th>\n",
              "      <th>NUMERO_AMOSTRA</th>\n",
              "      <th>TIPO_FORMA_ABASTECIMENTO</th>\n",
              "      <th>CODIGO_FORMA_ABASTECIMENTO</th>\n",
              "      <th>NOME_FORMA_ABASTECIMENTO</th>\n",
              "      <th>TIPO_INSTITUICAO</th>\n",
              "      <th>SIGLA_INSTITUICAO</th>\n",
              "      <th>NOME_INSTITUICAO</th>\n",
              "      <th>NOME_ESCRITORIO_REGIONAL</th>\n",
              "      <th>ANO</th>\n",
              "      <th>MES</th>\n",
              "      <th>DATA_COLETA</th>\n",
              "      <th>DATA_LAUDO</th>\n",
              "      <th>DATA_REGISTRO_SISAGUA</th>\n",
              "      <th>PROCEDENCIA_COLETA</th>\n",
              "      <th>PONTO_COLETA</th>\n",
              "      <th>DESCRICAO_LOCAL</th>\n",
              "      <th>AREA</th>\n",
              "      <th>PARAMETRO</th>\n",
              "      <th>ANALISE_REALIZADA</th>\n",
              "      <th>RESULTADO</th>\n",
              "      <th>PROVIDENCIA</th>\n",
              "    </tr>\n",
              "  </thead>\n",
              "  <tbody>\n",
              "    <tr>\n",
              "      <th>16272</th>\n",
              "      <td>2353</td>\n",
              "      <td>SAA</td>\n",
              "      <td>S130260000007</td>\n",
              "      <td>SISTEMA DE ABASTECIMENTO MANAUS               ...</td>\n",
              "      <td>Serviço Municipal e outros                    ...</td>\n",
              "      <td></td>\n",
              "      <td>MANAUS AMBIENTAL SA                           ...</td>\n",
              "      <td>...</td>\n",
              "      <td>2020</td>\n",
              "      <td>10</td>\n",
              "      <td>2020/10/20 00:00:00.000</td>\n",
              "      <td>2020/10/21 00:00:00.000</td>\n",
              "      <td>2020/11/29 18:25:17.000</td>\n",
              "      <td>SISTEMA DE DISTRIBUIÇÃO                       ...</td>\n",
              "      <td>Torneira antes da reservação                  ...</td>\n",
              "      <td>RUA BOM JESUS, N 259                          ...</td>\n",
              "      <td>ZUMBI DOS PALMARES</td>\n",
              "      <td>Escherichia coli                              ...</td>\n",
              "      <td>...</td>\n",
              "      <td>AUSENTE                                       ...</td>\n",
              "      <td>...</td>\n",
              "    </tr>\n",
              "    <tr>\n",
              "      <th>16273</th>\n",
              "      <td>2349</td>\n",
              "      <td>SAA</td>\n",
              "      <td>S130260000007</td>\n",
              "      <td>SISTEMA DE ABASTECIMENTO MANAUS               ...</td>\n",
              "      <td>Serviço Municipal e outros                    ...</td>\n",
              "      <td></td>\n",
              "      <td>MANAUS AMBIENTAL SA                           ...</td>\n",
              "      <td>...</td>\n",
              "      <td>2020</td>\n",
              "      <td>10</td>\n",
              "      <td>2020/10/20 00:00:00.000</td>\n",
              "      <td>2020/10/21 00:00:00.000</td>\n",
              "      <td>2020/11/29 18:04:28.000</td>\n",
              "      <td>SISTEMA DE DISTRIBUIÇÃO                       ...</td>\n",
              "      <td>Torneira antes da reservação                  ...</td>\n",
              "      <td>RUA ANTENOR CAVALCANTE, N 59                  ...</td>\n",
              "      <td>ZUMBI DOS PALMARES</td>\n",
              "      <td>Coliformes totais                             ...</td>\n",
              "      <td>...</td>\n",
              "      <td>AUSENTE                                       ...</td>\n",
              "      <td>...</td>\n",
              "    </tr>\n",
              "    <tr>\n",
              "      <th>16274</th>\n",
              "      <td>1497</td>\n",
              "      <td>SAA</td>\n",
              "      <td>S130260000007</td>\n",
              "      <td>SISTEMA DE ABASTECIMENTO MANAUS               ...</td>\n",
              "      <td>Serviço Municipal e outros                    ...</td>\n",
              "      <td></td>\n",
              "      <td>MANAUS AMBIENTAL SA                           ...</td>\n",
              "      <td>...</td>\n",
              "      <td>2020</td>\n",
              "      <td>08</td>\n",
              "      <td>2020/08/18 00:00:00.000</td>\n",
              "      <td>2020/08/19 00:00:00.000</td>\n",
              "      <td>2020/09/14 11:05:59.000</td>\n",
              "      <td>SISTEMA DE DISTRIBUIÇÃO                       ...</td>\n",
              "      <td>Torneira antes da reservação                  ...</td>\n",
              "      <td>RUA DR VALDIR CENTAURO, N 09                  ...</td>\n",
              "      <td>ZUMBI DOS PALMARES</td>\n",
              "      <td>Escherichia coli                              ...</td>\n",
              "      <td>...</td>\n",
              "      <td>AUSENTE                                       ...</td>\n",
              "      <td>...</td>\n",
              "    </tr>\n",
              "    <tr>\n",
              "      <th>16275</th>\n",
              "      <td>1226</td>\n",
              "      <td>SAA</td>\n",
              "      <td>S130260000007</td>\n",
              "      <td>SISTEMA DE ABASTECIMENTO MANAUS               ...</td>\n",
              "      <td>Serviço Municipal e outros                    ...</td>\n",
              "      <td></td>\n",
              "      <td>MANAUS AMBIENTAL SA                           ...</td>\n",
              "      <td>...</td>\n",
              "      <td>2020</td>\n",
              "      <td>07</td>\n",
              "      <td>2020/07/20 00:00:00.000</td>\n",
              "      <td>2020/07/21 00:00:00.000</td>\n",
              "      <td>2020/08/16 12:18:55.000</td>\n",
              "      <td>SISTEMA DE DISTRIBUIÇÃO                       ...</td>\n",
              "      <td>Torneira antes da reservação                  ...</td>\n",
              "      <td>RUA ANTENOR CAVALCANTE, N 59                  ...</td>\n",
              "      <td>ZUMBI DOS PALMARES</td>\n",
              "      <td>Coliformes totais                             ...</td>\n",
              "      <td>...</td>\n",
              "      <td>AUSENTE                                       ...</td>\n",
              "      <td>...</td>\n",
              "    </tr>\n",
              "    <tr>\n",
              "      <th>16276</th>\n",
              "      <td>0582</td>\n",
              "      <td>SAA</td>\n",
              "      <td>S130260000007</td>\n",
              "      <td>SISTEMA DE ABASTECIMENTO MANAUS               ...</td>\n",
              "      <td>Serviço Municipal e outros                    ...</td>\n",
              "      <td></td>\n",
              "      <td>MANAUS AMBIENTAL SA                           ...</td>\n",
              "      <td>...</td>\n",
              "      <td>2020</td>\n",
              "      <td>05</td>\n",
              "      <td>2020/05/14 00:00:00.000</td>\n",
              "      <td>2020/05/15 00:00:00.000</td>\n",
              "      <td>2020/06/23 19:36:47.000</td>\n",
              "      <td>SISTEMA DE DISTRIBUIÇÃO                       ...</td>\n",
              "      <td>Torneira antes da reservação                  ...</td>\n",
              "      <td>RUA JOÃO BOSCO BOUNIER, N 37                  ...</td>\n",
              "      <td>ZUMBI DOS PALMARES</td>\n",
              "      <td>Coliformes totais                             ...</td>\n",
              "      <td>...</td>\n",
              "      <td>AUSENTE                                       ...</td>\n",
              "      <td>...</td>\n",
              "    </tr>\n",
              "  </tbody>\n",
              "</table>\n",
              "</div>"
            ],
            "text/plain": [
              "        NUMERO_AMOSTRA  ...                                        PROVIDENCIA\n",
              "16272  2353             ...                                                ...\n",
              "16273  2349             ...                                                ...\n",
              "16274  1497             ...                                                ...\n",
              "16275  1226             ...                                                ...\n",
              "16276  0582             ...                                                ...\n",
              "\n",
              "[5 rows x 21 columns]"
            ]
          },
          "metadata": {
            "tags": []
          },
          "execution_count": 21
        }
      ]
    }
  ]
}